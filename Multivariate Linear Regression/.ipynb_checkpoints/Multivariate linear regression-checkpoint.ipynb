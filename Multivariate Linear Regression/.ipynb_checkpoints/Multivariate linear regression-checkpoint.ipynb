{
 "cells": [
  {
   "cell_type": "code",
   "execution_count": 1,
   "id": "f79c7cf9",
   "metadata": {},
   "outputs": [],
   "source": [
    "import numpy as np\n",
    "import pandas as pd\n",
    "import matplotlib.pyplot as plt\n",
    "from sklearn import linear_model\n",
    "from word2number import w2n"
   ]
  },
  {
   "cell_type": "code",
   "execution_count": 2,
   "id": "f71b7326",
   "metadata": {},
   "outputs": [
    {
     "name": "stdout",
     "output_type": "stream",
     "text": [
      "  experience  test_score  interview_score  salary($)\n",
      "0        NaN         8.0                9      50000\n",
      "1        NaN         8.0                6      45000\n",
      "2       five         6.0                7      60000\n",
      "3        two        10.0               10      65000\n",
      "4      seven         9.0                6      70000\n",
      "5      three         7.0               10      62000\n",
      "6        ten         NaN                7      72000\n",
      "7     eleven         7.0                8      80000\n"
     ]
    }
   ],
   "source": [
    "dataset = pd.read_csv(\"E:\\Case-Study-of-DataScience\\Multivariate Linear Regression\\hiring_2.csv\")\n",
    "print(dataset)"
   ]
  },
  {
   "cell_type": "code",
   "execution_count": 3,
   "id": "17ddd85a",
   "metadata": {},
   "outputs": [
    {
     "name": "stdout",
     "output_type": "stream",
     "text": [
      "7\n"
     ]
    }
   ],
   "source": [
    "testscore = dataset.test_score.mean()\n",
    "testscore = int(testscore)\n",
    "print(testscore)"
   ]
  },
  {
   "cell_type": "code",
   "execution_count": 5,
   "id": "352b488e",
   "metadata": {},
   "outputs": [
    {
     "name": "stdout",
     "output_type": "stream",
     "text": [
      "  experience  test_score  interview_score  salary($)\n",
      "0        NaN         8.0                9      50000\n",
      "1        NaN         8.0                6      45000\n",
      "2       five         6.0                7      60000\n",
      "3        two        10.0               10      65000\n",
      "4      seven         9.0                6      70000\n",
      "5      three         7.0               10      62000\n",
      "6        ten         7.0                7      72000\n",
      "7     eleven         7.0                8      80000\n"
     ]
    }
   ],
   "source": [
    "dataset.iloc[:,1] = dataset.iloc[:,1].replace(np.NaN ,testscore)\n",
    "print(dataset)"
   ]
  },
  {
   "cell_type": "code",
   "execution_count": 6,
   "id": "0e46b084",
   "metadata": {},
   "outputs": [
    {
     "name": "stdout",
     "output_type": "stream",
     "text": [
      "  experience  test_score  interview_score  salary($)\n",
      "0        NaN         8.0                9      50000\n",
      "1        NaN         8.0                6      45000\n",
      "2       five         6.0                7      60000\n",
      "3        two        10.0               10      65000\n",
      "4      seven         9.0                6      70000\n",
      "5      three         7.0               10      62000\n",
      "6        ten         7.0                7      72000\n",
      "7     eleven         7.0                8      80000\n"
     ]
    }
   ],
   "source": [
    "dataset.test_score = dataset.test_score.fillna(testscore)\n",
    "print(dataset)"
   ]
  },
  {
   "cell_type": "code",
   "execution_count": 7,
   "id": "08d19dc5",
   "metadata": {},
   "outputs": [
    {
     "name": "stdout",
     "output_type": "stream",
     "text": [
      "  experience  test_score  interview_score  salary($)\n",
      "0       zero         8.0                9      50000\n",
      "1       zero         8.0                6      45000\n",
      "2       five         6.0                7      60000\n",
      "3        two        10.0               10      65000\n",
      "4      seven         9.0                6      70000\n",
      "5      three         7.0               10      62000\n",
      "6        ten         7.0                7      72000\n",
      "7     eleven         7.0                8      80000\n"
     ]
    }
   ],
   "source": [
    "dataset.experience = dataset.experience.fillna(\"zero\")\n",
    "print(dataset)"
   ]
  },
  {
   "cell_type": "code",
   "execution_count": 8,
   "id": "49a2e593",
   "metadata": {},
   "outputs": [
    {
     "name": "stdout",
     "output_type": "stream",
     "text": [
      "   experience  test_score  interview_score  salary($)\n",
      "0           0         8.0                9      50000\n",
      "1           0         8.0                6      45000\n",
      "2           5         6.0                7      60000\n",
      "3           2        10.0               10      65000\n",
      "4           7         9.0                6      70000\n",
      "5           3         7.0               10      62000\n",
      "6          10         7.0                7      72000\n",
      "7          11         7.0                8      80000\n"
     ]
    }
   ],
   "source": [
    "dataset.experience  = dataset.experience.apply(w2n.word_to_num)\n",
    "print(dataset)"
   ]
  },
  {
   "cell_type": "code",
   "execution_count": 46,
   "id": "ff56cc30",
   "metadata": {},
   "outputs": [],
   "source": [
    "LR?"
   ]
  },
  {
   "cell_type": "code",
   "execution_count": 15,
   "id": "82ebcf08",
   "metadata": {},
   "outputs": [
    {
     "name": "stdout",
     "output_type": "stream",
     "text": [
      "   experience  test_score  interview_score\n",
      "0           0         8.0                9\n",
      "1           0         8.0                6\n",
      "2           5         6.0                7\n",
      "3           2        10.0               10\n",
      "4           7         9.0                6\n",
      "5           3         7.0               10\n",
      "6          10         7.0                7\n",
      "7          11         7.0                8\n",
      "0    50000\n",
      "1    45000\n",
      "2    60000\n",
      "3    65000\n",
      "4    70000\n",
      "5    62000\n",
      "6    72000\n",
      "7    80000\n",
      "Name: salary($), dtype: int64\n"
     ]
    }
   ],
   "source": [
    "X = dataset.iloc[:,0:3]\n",
    "y = dataset.iloc[: , 3]\n",
    "print(X)\n",
    "print(y)"
   ]
  },
  {
   "cell_type": "code",
   "execution_count": 16,
   "id": "dbe64917",
   "metadata": {},
   "outputs": [
    {
     "data": {
      "text/plain": [
       "LinearRegression()"
      ]
     },
     "execution_count": 16,
     "metadata": {},
     "output_type": "execute_result"
    }
   ],
   "source": [
    "LR = linear_model.LinearRegression()\n",
    "LR.fit(X, y)"
   ]
  },
  {
   "cell_type": "code",
   "execution_count": 19,
   "id": "3e409808",
   "metadata": {},
   "outputs": [
    {
     "data": {
      "text/plain": [
       "array([2922.26901502, 2221.30909959, 2147.48256637])"
      ]
     },
     "execution_count": 19,
     "metadata": {},
     "output_type": "execute_result"
    }
   ],
   "source": [
    "LR.coef_"
   ]
  },
  {
   "cell_type": "code",
   "execution_count": 20,
   "id": "856dbd3d",
   "metadata": {},
   "outputs": [
    {
     "data": {
      "text/plain": [
       "14992.65144669314"
      ]
     },
     "execution_count": 20,
     "metadata": {},
     "output_type": "execute_result"
    }
   ],
   "source": [
    "LR.intercept_"
   ]
  },
  {
   "cell_type": "code",
   "execution_count": 23,
   "id": "c9fb357f",
   "metadata": {},
   "outputs": [
    {
     "name": "stderr",
     "output_type": "stream",
     "text": [
      "C:\\Users\\Subhajit ghosh\\lib\\site-packages\\sklearn\\base.py:445: UserWarning: X does not have valid feature names, but LinearRegression was fitted with feature names\n",
      "  warnings.warn(\n"
     ]
    },
    {
     "data": {
      "text/plain": [
       "array([53713.86677124])"
      ]
     },
     "execution_count": 23,
     "metadata": {},
     "output_type": "execute_result"
    }
   ],
   "source": [
    "LR.predict([[2, 9.0 , 6]])"
   ]
  },
  {
   "cell_type": "code",
   "execution_count": null,
   "id": "e609bf7b",
   "metadata": {},
   "outputs": [],
   "source": []
  },
  {
   "cell_type": "code",
   "execution_count": null,
   "id": "c88bb98d",
   "metadata": {},
   "outputs": [],
   "source": []
  }
 ],
 "metadata": {
  "kernelspec": {
   "display_name": "Python 3 (ipykernel)",
   "language": "python",
   "name": "python3"
  },
  "language_info": {
   "codemirror_mode": {
    "name": "ipython",
    "version": 3
   },
   "file_extension": ".py",
   "mimetype": "text/x-python",
   "name": "python",
   "nbconvert_exporter": "python",
   "pygments_lexer": "ipython3",
   "version": "3.9.7"
  }
 },
 "nbformat": 4,
 "nbformat_minor": 5
}
