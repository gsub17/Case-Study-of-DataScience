{
 "cells": [
  {
   "cell_type": "markdown",
   "id": "d33336b7",
   "metadata": {},
   "source": [
    "#### here we are predicting that a person is going to pay loan repayment or not"
   ]
  },
  {
   "cell_type": "code",
   "execution_count": 4,
   "id": "331153ca",
   "metadata": {},
   "outputs": [],
   "source": [
    "import numpy as np\n",
    "import pandas as pd\n",
    "import matplotlib.pyplot as plt\n",
    "from sklearn.model_selection import train_test_split\n",
    "from sklearn.tree import DecisionTreeClassifier\n",
    "from sklearn import tree\n",
    "from sklearn.metrics import accuracy_score\n"
   ]
  },
  {
   "cell_type": "code",
   "execution_count": 5,
   "id": "7eeacab9",
   "metadata": {},
   "outputs": [
    {
     "data": {
      "text/html": [
       "<div>\n",
       "<style scoped>\n",
       "    .dataframe tbody tr th:only-of-type {\n",
       "        vertical-align: middle;\n",
       "    }\n",
       "\n",
       "    .dataframe tbody tr th {\n",
       "        vertical-align: top;\n",
       "    }\n",
       "\n",
       "    .dataframe thead th {\n",
       "        text-align: right;\n",
       "    }\n",
       "</style>\n",
       "<table border=\"1\" class=\"dataframe\">\n",
       "  <thead>\n",
       "    <tr style=\"text-align: right;\">\n",
       "      <th></th>\n",
       "      <th>1</th>\n",
       "      <th>2</th>\n",
       "      <th>3</th>\n",
       "      <th>4</th>\n",
       "      <th>sum</th>\n",
       "      <th>Unnamed: 5</th>\n",
       "    </tr>\n",
       "  </thead>\n",
       "  <tbody>\n",
       "    <tr>\n",
       "      <th>0</th>\n",
       "      <td>201</td>\n",
       "      <td>10018</td>\n",
       "      <td>250</td>\n",
       "      <td>3046</td>\n",
       "      <td>13515</td>\n",
       "      <td>yes</td>\n",
       "    </tr>\n",
       "    <tr>\n",
       "      <th>1</th>\n",
       "      <td>205</td>\n",
       "      <td>10016</td>\n",
       "      <td>395</td>\n",
       "      <td>3044</td>\n",
       "      <td>13660</td>\n",
       "      <td>yes</td>\n",
       "    </tr>\n",
       "    <tr>\n",
       "      <th>2</th>\n",
       "      <td>257</td>\n",
       "      <td>10129</td>\n",
       "      <td>109</td>\n",
       "      <td>3251</td>\n",
       "      <td>13746</td>\n",
       "      <td>yes</td>\n",
       "    </tr>\n",
       "    <tr>\n",
       "      <th>3</th>\n",
       "      <td>246</td>\n",
       "      <td>10064</td>\n",
       "      <td>324</td>\n",
       "      <td>3137</td>\n",
       "      <td>13771</td>\n",
       "      <td>yes</td>\n",
       "    </tr>\n",
       "    <tr>\n",
       "      <th>4</th>\n",
       "      <td>117</td>\n",
       "      <td>10115</td>\n",
       "      <td>496</td>\n",
       "      <td>3094</td>\n",
       "      <td>13822</td>\n",
       "      <td>yes</td>\n",
       "    </tr>\n",
       "  </tbody>\n",
       "</table>\n",
       "</div>"
      ],
      "text/plain": [
       "     1      2    3     4    sum Unnamed: 5\n",
       "0  201  10018  250  3046  13515        yes\n",
       "1  205  10016  395  3044  13660        yes\n",
       "2  257  10129  109  3251  13746        yes\n",
       "3  246  10064  324  3137  13771        yes\n",
       "4  117  10115  496  3094  13822        yes"
      ]
     },
     "execution_count": 5,
     "metadata": {},
     "output_type": "execute_result"
    }
   ],
   "source": [
    "dataset = pd.read_csv('Decision_Tree_ Dataset.csv')\n",
    "dataset.head()"
   ]
  },
  {
   "cell_type": "code",
   "execution_count": 6,
   "id": "bb7ee5c0",
   "metadata": {},
   "outputs": [
    {
     "name": "stdout",
     "output_type": "stream",
     "text": [
      "<class 'pandas.core.frame.DataFrame'>\n",
      "RangeIndex: 1000 entries, 0 to 999\n",
      "Data columns (total 6 columns):\n",
      " #   Column      Non-Null Count  Dtype \n",
      "---  ------      --------------  ----- \n",
      " 0   1           1000 non-null   int64 \n",
      " 1   2           1000 non-null   int64 \n",
      " 2   3           1000 non-null   int64 \n",
      " 3   4           1000 non-null   int64 \n",
      " 4   sum         1000 non-null   int64 \n",
      " 5   Unnamed: 5  1000 non-null   object\n",
      "dtypes: int64(5), object(1)\n",
      "memory usage: 47.0+ KB\n"
     ]
    }
   ],
   "source": [
    "dataset.info()"
   ]
  },
  {
   "cell_type": "code",
   "execution_count": 7,
   "id": "41e0d83f",
   "metadata": {},
   "outputs": [
    {
     "data": {
      "text/plain": [
       "(1000, 6)"
      ]
     },
     "execution_count": 7,
     "metadata": {},
     "output_type": "execute_result"
    }
   ],
   "source": [
    "dataset.shape"
   ]
  },
  {
   "cell_type": "markdown",
   "id": "99448206",
   "metadata": {},
   "source": [
    "## training the model"
   ]
  },
  {
   "cell_type": "code",
   "execution_count": 17,
   "id": "a0a19514",
   "metadata": {},
   "outputs": [],
   "source": [
    "X = dataset.values[:, 0:5]\n",
    "y = dataset.values[:,5]"
   ]
  },
  {
   "cell_type": "code",
   "execution_count": 18,
   "id": "efd74465",
   "metadata": {},
   "outputs": [
    {
     "data": {
      "text/plain": [
       "(1000, 5)"
      ]
     },
     "execution_count": 18,
     "metadata": {},
     "output_type": "execute_result"
    }
   ],
   "source": [
    "X.shape"
   ]
  },
  {
   "cell_type": "code",
   "execution_count": 19,
   "id": "8b26ae58",
   "metadata": {},
   "outputs": [
    {
     "data": {
      "text/plain": [
       "(1000,)"
      ]
     },
     "execution_count": 19,
     "metadata": {},
     "output_type": "execute_result"
    }
   ],
   "source": [
    "y.shape"
   ]
  },
  {
   "cell_type": "code",
   "execution_count": 20,
   "id": "e40f4cfd",
   "metadata": {},
   "outputs": [],
   "source": [
    "train_test_split?"
   ]
  },
  {
   "cell_type": "code",
   "execution_count": 23,
   "id": "3929f711",
   "metadata": {},
   "outputs": [
    {
     "data": {
      "text/plain": [
       "DecisionTreeClassifier()"
      ]
     },
     "execution_count": 23,
     "metadata": {},
     "output_type": "execute_result"
    }
   ],
   "source": [
    "X_train, X_test, y_train, y_test = train_test_split( X, y, test_size=0.3, random_state=100)\n",
    "\n",
    "\n",
    "decision_classifier_tree = DecisionTreeClassifier()\n",
    "## clf_entropy = DecisionTreeClassifier(criterion = \"entropy\", random_state = 100, max_depth=3, min_samples_leaf=5)\n",
    "\n",
    "decision_classifier_tree.fit(X_train,y_train)"
   ]
  },
  {
   "cell_type": "code",
   "execution_count": 24,
   "id": "e813c502",
   "metadata": {},
   "outputs": [
    {
     "data": {
      "text/plain": [
       "array(['yes', 'yes', 'No', 'yes', 'No', 'yes', 'No', 'No', 'No', 'No',\n",
       "       'No', 'No', 'yes', 'No', 'No', 'yes', 'yes', 'No', 'yes', 'No',\n",
       "       'No', 'yes', 'No', 'yes', 'yes', 'No', 'No', 'yes', 'No', 'No',\n",
       "       'No', 'yes', 'yes', 'yes', 'yes', 'No', 'No', 'No', 'yes', 'yes',\n",
       "       'yes', 'yes', 'yes', 'No', 'No', 'yes', 'No', 'yes', 'No', 'No',\n",
       "       'yes', 'No', 'yes', 'yes', 'yes', 'yes', 'No', 'No', 'No', 'yes',\n",
       "       'yes', 'No', 'No', 'yes', 'No', 'yes', 'yes', 'yes', 'No', 'yes',\n",
       "       'No', 'No', 'No', 'yes', 'No', 'yes', 'yes', 'No', 'yes', 'No',\n",
       "       'No', 'No', 'No', 'yes', 'No', 'yes', 'No', 'No', 'yes', 'No',\n",
       "       'yes', 'yes', 'No', 'yes', 'yes', 'No', 'yes', 'yes', 'yes', 'yes',\n",
       "       'No', 'No', 'yes', 'No', 'No', 'yes', 'yes', 'yes', 'No', 'yes',\n",
       "       'yes', 'yes', 'yes', 'No', 'No', 'yes', 'yes', 'yes', 'No', 'yes',\n",
       "       'No', 'No', 'yes', 'yes', 'No', 'No', 'yes', 'yes', 'No', 'No',\n",
       "       'yes', 'yes', 'No', 'yes', 'yes', 'yes', 'No', 'yes', 'yes', 'No',\n",
       "       'No', 'yes', 'yes', 'yes', 'No', 'yes', 'yes', 'yes', 'yes', 'No',\n",
       "       'yes', 'No', 'No', 'No', 'No', 'yes', 'No', 'No', 'No', 'yes',\n",
       "       'No', 'No', 'yes', 'yes', 'No', 'yes', 'No', 'yes', 'No', 'No',\n",
       "       'yes', 'yes', 'No', 'yes', 'No', 'yes', 'yes', 'No', 'No', 'No',\n",
       "       'No', 'No', 'yes', 'No', 'No', 'yes', 'yes', 'yes', 'yes', 'yes',\n",
       "       'No', 'yes', 'No', 'yes', 'No', 'No', 'No', 'yes', 'yes', 'No',\n",
       "       'No', 'yes', 'yes', 'No', 'No', 'No', 'yes', 'yes', 'No', 'No',\n",
       "       'yes', 'yes', 'yes', 'yes', 'yes', 'yes', 'yes', 'yes', 'yes',\n",
       "       'No', 'yes', 'yes', 'No', 'No', 'yes', 'No', 'yes', 'yes', 'No',\n",
       "       'No', 'yes', 'No', 'yes', 'yes', 'yes', 'yes', 'No', 'No', 'No',\n",
       "       'No', 'No', 'yes', 'No', 'yes', 'yes', 'No', 'yes', 'yes', 'No',\n",
       "       'No', 'No', 'yes', 'No', 'No', 'No', 'No', 'No', 'No', 'No', 'yes',\n",
       "       'yes', 'yes', 'yes', 'yes', 'yes', 'No', 'No', 'No', 'No', 'yes',\n",
       "       'No', 'yes', 'yes', 'yes', 'No', 'No', 'No', 'yes', 'yes', 'No',\n",
       "       'yes', 'No', 'No', 'No', 'yes', 'yes', 'No', 'No', 'yes', 'yes',\n",
       "       'No', 'No', 'yes', 'No', 'yes', 'yes', 'No', 'No', 'yes', 'yes'],\n",
       "      dtype=object)"
      ]
     },
     "execution_count": 24,
     "metadata": {},
     "output_type": "execute_result"
    }
   ],
   "source": [
    "ypred = decision_classifier_tree.predict(X_test)\n",
    "ypred"
   ]
  },
  {
   "cell_type": "code",
   "execution_count": 27,
   "id": "aa52f898",
   "metadata": {},
   "outputs": [
    {
     "data": {
      "text/plain": [
       "1.0"
      ]
     },
     "execution_count": 27,
     "metadata": {},
     "output_type": "execute_result"
    }
   ],
   "source": [
    "output = accuracy_score(y_test,ypred)\n",
    "output"
   ]
  },
  {
   "cell_type": "code",
   "execution_count": null,
   "id": "b7da9119",
   "metadata": {},
   "outputs": [],
   "source": []
  },
  {
   "cell_type": "code",
   "execution_count": null,
   "id": "fe524907",
   "metadata": {},
   "outputs": [],
   "source": []
  },
  {
   "cell_type": "code",
   "execution_count": null,
   "id": "d8146eea",
   "metadata": {},
   "outputs": [],
   "source": []
  }
 ],
 "metadata": {
  "kernelspec": {
   "display_name": "Python 3 (ipykernel)",
   "language": "python",
   "name": "python3"
  },
  "language_info": {
   "codemirror_mode": {
    "name": "ipython",
    "version": 3
   },
   "file_extension": ".py",
   "mimetype": "text/x-python",
   "name": "python",
   "nbconvert_exporter": "python",
   "pygments_lexer": "ipython3",
   "version": "3.9.7"
  }
 },
 "nbformat": 4,
 "nbformat_minor": 5
}
