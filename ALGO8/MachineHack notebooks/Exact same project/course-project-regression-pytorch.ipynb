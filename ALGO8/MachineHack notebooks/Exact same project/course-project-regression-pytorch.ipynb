{
 "cells": [
  {
   "cell_type": "code",
   "execution_count": 2,
   "metadata": {
    "executionInfo": {
     "elapsed": 4271,
     "status": "ok",
     "timestamp": 1610200487305,
     "user": {
      "displayName": "dwik nurdialit",
      "photoUrl": "https://lh3.googleusercontent.com/a-/AOh14Giow_tfZNy4Fx6wEaAzyIWBgpjyR0lyYhLqsu8k8Q=s64",
      "userId": "08741265208720132226"
     },
     "user_tz": -420
    },
    "id": "v42WYUrfbAzZ"
   },
   "outputs": [],
   "source": [
    "!pip install jovian --upgrade --quiet"
   ]
  },
  {
   "cell_type": "markdown",
   "metadata": {
    "id": "hJyyFdbsbduF"
   },
   "source": [
    "# **Weather in Szeged 2006-2016**\n",
    "\n",
    "This is a dataset for a larger project I have been working on. My idea is to analyze and compare real historical weather with weather folklore.\n",
    "\n",
    "**Content**\n",
    "The CSV file includes a hourly/daily summary for Szeged, Hungary area, between 2006 and 2016.\n",
    "\n",
    "**Data available in the hourly response:**\n",
    "\n",
    "1. time\n",
    "2. summary\n",
    "3. precipType\n",
    "4. temperature\n",
    "5. apparentTemperature\n",
    "6. humidity\n",
    "7. windSpeed\n",
    "8. windBearing\n",
    "9. visibility\n",
    "10. loudCover\n",
    "11. pressure\n"
   ]
  },
  {
   "cell_type": "code",
   "execution_count": 3,
   "metadata": {
    "executionInfo": {
     "elapsed": 3736,
     "status": "ok",
     "timestamp": 1610200755898,
     "user": {
      "displayName": "dwik nurdialit",
      "photoUrl": "https://lh3.googleusercontent.com/a-/AOh14Giow_tfZNy4Fx6wEaAzyIWBgpjyR0lyYhLqsu8k8Q=s64",
      "userId": "08741265208720132226"
     },
     "user_tz": -420
    },
    "id": "2qwc4jC9bAza"
   },
   "outputs": [],
   "source": [
    "import torch\n",
    "import jovian\n",
    "import torchvision\n",
    "import torch.nn as nn\n",
    "import pandas as pd\n",
    "import matplotlib.pyplot as plt\n",
    "import torch.nn.functional as F\n",
    "from torchvision.datasets.utils import download_url\n",
    "from torch.utils.data import DataLoader, TensorDataset, random_split"
   ]
  },
  {
   "cell_type": "code",
   "execution_count": 4,
   "metadata": {
    "executionInfo": {
     "elapsed": 1058,
     "status": "ok",
     "timestamp": 1610200795892,
     "user": {
      "displayName": "dwik nurdialit",
      "photoUrl": "https://lh3.googleusercontent.com/a-/AOh14Giow_tfZNy4Fx6wEaAzyIWBgpjyR0lyYhLqsu8k8Q=s64",
      "userId": "08741265208720132226"
     },
     "user_tz": -420
    },
    "id": "BpAuTPUUcfv4"
   },
   "outputs": [],
   "source": [
    "project_name='course-project-regression-pytorch' # will be used by jovian.commit"
   ]
  },
  {
   "cell_type": "markdown",
   "metadata": {
    "id": "2c3yuCKYco9i"
   },
   "source": [
    "# Step 1: Load the dataset"
   ]
  },
  {
   "cell_type": "code",
   "execution_count": 5,
   "metadata": {
    "executionInfo": {
     "elapsed": 1018,
     "status": "ok",
     "timestamp": 1610201142494,
     "user": {
      "displayName": "dwik nurdialit",
      "photoUrl": "https://lh3.googleusercontent.com/a-/AOh14Giow_tfZNy4Fx6wEaAzyIWBgpjyR0lyYhLqsu8k8Q=s64",
      "userId": "08741265208720132226"
     },
     "user_tz": -420
    },
    "id": "ZljPqYZXcoCg"
   },
   "outputs": [],
   "source": [
    "dataframe = pd.read_csv(\"weatherHistory.csv\")"
   ]
  },
  {
   "cell_type": "code",
   "execution_count": 6,
   "metadata": {
    "colab": {
     "base_uri": "https://localhost:8080/",
     "height": 513
    },
    "executionInfo": {
     "elapsed": 1115,
     "status": "ok",
     "timestamp": 1610201154485,
     "user": {
      "displayName": "dwik nurdialit",
      "photoUrl": "https://lh3.googleusercontent.com/a-/AOh14Giow_tfZNy4Fx6wEaAzyIWBgpjyR0lyYhLqsu8k8Q=s64",
      "userId": "08741265208720132226"
     },
     "user_tz": -420
    },
    "id": "RabYsCj6d6Fc",
    "outputId": "c88c60e3-aaab-4020-c525-33700c5b7d88"
   },
   "outputs": [
    {
     "data": {
      "text/html": [
       "<div>\n",
       "<style scoped>\n",
       "    .dataframe tbody tr th:only-of-type {\n",
       "        vertical-align: middle;\n",
       "    }\n",
       "\n",
       "    .dataframe tbody tr th {\n",
       "        vertical-align: top;\n",
       "    }\n",
       "\n",
       "    .dataframe thead th {\n",
       "        text-align: right;\n",
       "    }\n",
       "</style>\n",
       "<table border=\"1\" class=\"dataframe\">\n",
       "  <thead>\n",
       "    <tr style=\"text-align: right;\">\n",
       "      <th></th>\n",
       "      <th>Formatted Date</th>\n",
       "      <th>Summary</th>\n",
       "      <th>Precip Type</th>\n",
       "      <th>Temperature (C)</th>\n",
       "      <th>Apparent Temperature (C)</th>\n",
       "      <th>Humidity</th>\n",
       "      <th>Wind Speed (km/h)</th>\n",
       "      <th>Wind Bearing (degrees)</th>\n",
       "      <th>Visibility (km)</th>\n",
       "      <th>Loud Cover</th>\n",
       "      <th>Pressure (millibars)</th>\n",
       "      <th>Daily Summary</th>\n",
       "    </tr>\n",
       "  </thead>\n",
       "  <tbody>\n",
       "    <tr>\n",
       "      <th>0</th>\n",
       "      <td>2006-04-01 00:00:00.000 +0200</td>\n",
       "      <td>Partly Cloudy</td>\n",
       "      <td>rain</td>\n",
       "      <td>9.472222</td>\n",
       "      <td>7.388889</td>\n",
       "      <td>0.89</td>\n",
       "      <td>14.1197</td>\n",
       "      <td>251.0</td>\n",
       "      <td>15.8263</td>\n",
       "      <td>0.0</td>\n",
       "      <td>1015.13</td>\n",
       "      <td>Partly cloudy throughout the day.</td>\n",
       "    </tr>\n",
       "    <tr>\n",
       "      <th>1</th>\n",
       "      <td>2006-04-01 01:00:00.000 +0200</td>\n",
       "      <td>Partly Cloudy</td>\n",
       "      <td>rain</td>\n",
       "      <td>9.355556</td>\n",
       "      <td>7.227778</td>\n",
       "      <td>0.86</td>\n",
       "      <td>14.2646</td>\n",
       "      <td>259.0</td>\n",
       "      <td>15.8263</td>\n",
       "      <td>0.0</td>\n",
       "      <td>1015.63</td>\n",
       "      <td>Partly cloudy throughout the day.</td>\n",
       "    </tr>\n",
       "    <tr>\n",
       "      <th>2</th>\n",
       "      <td>2006-04-01 02:00:00.000 +0200</td>\n",
       "      <td>Mostly Cloudy</td>\n",
       "      <td>rain</td>\n",
       "      <td>9.377778</td>\n",
       "      <td>9.377778</td>\n",
       "      <td>0.89</td>\n",
       "      <td>3.9284</td>\n",
       "      <td>204.0</td>\n",
       "      <td>14.9569</td>\n",
       "      <td>0.0</td>\n",
       "      <td>1015.94</td>\n",
       "      <td>Partly cloudy throughout the day.</td>\n",
       "    </tr>\n",
       "    <tr>\n",
       "      <th>3</th>\n",
       "      <td>2006-04-01 03:00:00.000 +0200</td>\n",
       "      <td>Partly Cloudy</td>\n",
       "      <td>rain</td>\n",
       "      <td>8.288889</td>\n",
       "      <td>5.944444</td>\n",
       "      <td>0.83</td>\n",
       "      <td>14.1036</td>\n",
       "      <td>269.0</td>\n",
       "      <td>15.8263</td>\n",
       "      <td>0.0</td>\n",
       "      <td>1016.41</td>\n",
       "      <td>Partly cloudy throughout the day.</td>\n",
       "    </tr>\n",
       "    <tr>\n",
       "      <th>4</th>\n",
       "      <td>2006-04-01 04:00:00.000 +0200</td>\n",
       "      <td>Mostly Cloudy</td>\n",
       "      <td>rain</td>\n",
       "      <td>8.755556</td>\n",
       "      <td>6.977778</td>\n",
       "      <td>0.83</td>\n",
       "      <td>11.0446</td>\n",
       "      <td>259.0</td>\n",
       "      <td>15.8263</td>\n",
       "      <td>0.0</td>\n",
       "      <td>1016.51</td>\n",
       "      <td>Partly cloudy throughout the day.</td>\n",
       "    </tr>\n",
       "  </tbody>\n",
       "</table>\n",
       "</div>"
      ],
      "text/plain": [
       "                  Formatted Date  ...                      Daily Summary\n",
       "0  2006-04-01 00:00:00.000 +0200  ...  Partly cloudy throughout the day.\n",
       "1  2006-04-01 01:00:00.000 +0200  ...  Partly cloudy throughout the day.\n",
       "2  2006-04-01 02:00:00.000 +0200  ...  Partly cloudy throughout the day.\n",
       "3  2006-04-01 03:00:00.000 +0200  ...  Partly cloudy throughout the day.\n",
       "4  2006-04-01 04:00:00.000 +0200  ...  Partly cloudy throughout the day.\n",
       "\n",
       "[5 rows x 12 columns]"
      ]
     },
     "execution_count": 6,
     "metadata": {
      "tags": []
     },
     "output_type": "execute_result"
    }
   ],
   "source": [
    "dataframe.head()"
   ]
  },
  {
   "cell_type": "markdown",
   "metadata": {
    "id": "S_EcX0UHeNUN"
   },
   "source": [
    "**Q: is there any missing value?**"
   ]
  },
  {
   "cell_type": "code",
   "execution_count": 7,
   "metadata": {
    "colab": {
     "base_uri": "https://localhost:8080/"
    },
    "executionInfo": {
     "elapsed": 906,
     "status": "ok",
     "timestamp": 1610201197007,
     "user": {
      "displayName": "dwik nurdialit",
      "photoUrl": "https://lh3.googleusercontent.com/a-/AOh14Giow_tfZNy4Fx6wEaAzyIWBgpjyR0lyYhLqsu8k8Q=s64",
      "userId": "08741265208720132226"
     },
     "user_tz": -420
    },
    "id": "96Fc-hA3eDHg",
    "outputId": "fa9f0993-21ac-429e-db67-be12f47b30b9"
   },
   "outputs": [
    {
     "data": {
      "text/plain": [
       "Formatted Date                0\n",
       "Summary                       0\n",
       "Precip Type                 517\n",
       "Temperature (C)               0\n",
       "Apparent Temperature (C)      0\n",
       "Humidity                      0\n",
       "Wind Speed (km/h)             0\n",
       "Wind Bearing (degrees)        0\n",
       "Visibility (km)               0\n",
       "Loud Cover                    0\n",
       "Pressure (millibars)          0\n",
       "Daily Summary                 0\n",
       "dtype: int64"
      ]
     },
     "execution_count": 7,
     "metadata": {
      "tags": []
     },
     "output_type": "execute_result"
    }
   ],
   "source": [
    "dataframe.isnull().sum()"
   ]
  },
  {
   "cell_type": "code",
   "execution_count": 8,
   "metadata": {
    "executionInfo": {
     "elapsed": 1000,
     "status": "ok",
     "timestamp": 1610201429694,
     "user": {
      "displayName": "dwik nurdialit",
      "photoUrl": "https://lh3.googleusercontent.com/a-/AOh14Giow_tfZNy4Fx6wEaAzyIWBgpjyR0lyYhLqsu8k8Q=s64",
      "userId": "08741265208720132226"
     },
     "user_tz": -420
    },
    "id": "asNxTR2VeewA"
   },
   "outputs": [],
   "source": [
    "#treat the missing value\n",
    "dataframe[\"Precip Type\"].fillna(dataframe[\"Precip Type\"].mode()[0], inplace=True)"
   ]
  },
  {
   "cell_type": "code",
   "execution_count": 9,
   "metadata": {
    "colab": {
     "base_uri": "https://localhost:8080/"
    },
    "executionInfo": {
     "elapsed": 878,
     "status": "ok",
     "timestamp": 1610201438312,
     "user": {
      "displayName": "dwik nurdialit",
      "photoUrl": "https://lh3.googleusercontent.com/a-/AOh14Giow_tfZNy4Fx6wEaAzyIWBgpjyR0lyYhLqsu8k8Q=s64",
      "userId": "08741265208720132226"
     },
     "user_tz": -420
    },
    "id": "wyClBP11e_6p",
    "outputId": "6899c4ae-4fcb-4718-f6bb-2e5c4a504ca8"
   },
   "outputs": [
    {
     "data": {
      "text/plain": [
       "Formatted Date              0\n",
       "Summary                     0\n",
       "Precip Type                 0\n",
       "Temperature (C)             0\n",
       "Apparent Temperature (C)    0\n",
       "Humidity                    0\n",
       "Wind Speed (km/h)           0\n",
       "Wind Bearing (degrees)      0\n",
       "Visibility (km)             0\n",
       "Loud Cover                  0\n",
       "Pressure (millibars)        0\n",
       "Daily Summary               0\n",
       "dtype: int64"
      ]
     },
     "execution_count": 9,
     "metadata": {
      "tags": []
     },
     "output_type": "execute_result"
    }
   ],
   "source": [
    "dataframe.isnull().sum()"
   ]
  },
  {
   "cell_type": "markdown",
   "metadata": {
    "id": "LXrNh4-bfLvF"
   },
   "source": [
    "**Q: How many columns doe the dataset have**"
   ]
  },
  {
   "cell_type": "code",
   "execution_count": 10,
   "metadata": {
    "colab": {
     "base_uri": "https://localhost:8080/"
    },
    "executionInfo": {
     "elapsed": 1027,
     "status": "ok",
     "timestamp": 1610201508910,
     "user": {
      "displayName": "dwik nurdialit",
      "photoUrl": "https://lh3.googleusercontent.com/a-/AOh14Giow_tfZNy4Fx6wEaAzyIWBgpjyR0lyYhLqsu8k8Q=s64",
      "userId": "08741265208720132226"
     },
     "user_tz": -420
    },
    "id": "xkmh4z2pfON3",
    "outputId": "2747f253-4bb0-441a-d7c9-0867a7e56334"
   },
   "outputs": [
    {
     "name": "stdout",
     "output_type": "stream",
     "text": [
      "12\n"
     ]
    }
   ],
   "source": [
    "num_cols = dataframe.shape[1]\n",
    "print(num_cols)"
   ]
  },
  {
   "cell_type": "markdown",
   "metadata": {
    "id": "P3UjBI2nfUQa"
   },
   "source": [
    "**Q: What are the column titles of the input variables?**"
   ]
  },
  {
   "cell_type": "code",
   "execution_count": 11,
   "metadata": {
    "colab": {
     "base_uri": "https://localhost:8080/"
    },
    "executionInfo": {
     "elapsed": 953,
     "status": "ok",
     "timestamp": 1610201682569,
     "user": {
      "displayName": "dwik nurdialit",
      "photoUrl": "https://lh3.googleusercontent.com/a-/AOh14Giow_tfZNy4Fx6wEaAzyIWBgpjyR0lyYhLqsu8k8Q=s64",
      "userId": "08741265208720132226"
     },
     "user_tz": -420
    },
    "id": "J6dpxmJ_fYmk",
    "outputId": "17a57e41-e155-4a00-bab0-bb2e280a2bf1"
   },
   "outputs": [
    {
     "data": {
      "text/plain": [
       "['Formatted Date',\n",
       " 'Summary',\n",
       " 'Precip Type',\n",
       " 'Temperature (C)',\n",
       " 'Humidity',\n",
       " 'Wind Speed (km/h)',\n",
       " 'Wind Bearing (degrees)',\n",
       " 'Visibility (km)',\n",
       " 'Loud Cover',\n",
       " 'Pressure (millibars)',\n",
       " 'Daily Summary']"
      ]
     },
     "execution_count": 11,
     "metadata": {
      "tags": []
     },
     "output_type": "execute_result"
    }
   ],
   "source": [
    "input_cols = [\"Formatted Date\", \"Summary\", \"Precip Type\", \"Temperature (C)\", \"Humidity\", \"Wind Speed (km/h)\", \"Wind Bearing (degrees)\", \"Visibility (km)\", \"Loud Cover\", \"Pressure (millibars)\", \"Daily Summary\"]\n",
    "input_cols"
   ]
  },
  {
   "cell_type": "markdown",
   "metadata": {
    "id": "JVYqFF_9gB7h"
   },
   "source": [
    "**Q: Which of the input columns are non-numeric or categorial variables?**"
   ]
  },
  {
   "cell_type": "code",
   "execution_count": 12,
   "metadata": {
    "executionInfo": {
     "elapsed": 1224,
     "status": "ok",
     "timestamp": 1610201809471,
     "user": {
      "displayName": "dwik nurdialit",
      "photoUrl": "https://lh3.googleusercontent.com/a-/AOh14Giow_tfZNy4Fx6wEaAzyIWBgpjyR0lyYhLqsu8k8Q=s64",
      "userId": "08741265208720132226"
     },
     "user_tz": -420
    },
    "id": "CTUykjGPgKhv"
   },
   "outputs": [],
   "source": [
    "categorical_cols = [\"Summary\", \"Precip Type\", \"Daily Summary\"]"
   ]
  },
  {
   "cell_type": "markdown",
   "metadata": {
    "id": "j7Mc4JQNgcdM"
   },
   "source": [
    "**Q: What are the column titles of output/target variable(s)?**"
   ]
  },
  {
   "cell_type": "code",
   "execution_count": 13,
   "metadata": {
    "executionInfo": {
     "elapsed": 877,
     "status": "ok",
     "timestamp": 1610201844869,
     "user": {
      "displayName": "dwik nurdialit",
      "photoUrl": "https://lh3.googleusercontent.com/a-/AOh14Giow_tfZNy4Fx6wEaAzyIWBgpjyR0lyYhLqsu8k8Q=s64",
      "userId": "08741265208720132226"
     },
     "user_tz": -420
    },
    "id": "CrWokqDmgf7F"
   },
   "outputs": [],
   "source": [
    "output_cols = [\"Apparent Temperature (C)\"]"
   ]
  },
  {
   "cell_type": "code",
   "execution_count": 14,
   "metadata": {
    "executionInfo": {
     "elapsed": 3668,
     "status": "ok",
     "timestamp": 1610201867825,
     "user": {
      "displayName": "dwik nurdialit",
      "photoUrl": "https://lh3.googleusercontent.com/a-/AOh14Giow_tfZNy4Fx6wEaAzyIWBgpjyR0lyYhLqsu8k8Q=s64",
      "userId": "08741265208720132226"
     },
     "user_tz": -420
    },
    "id": "zuSZgoT7gl89"
   },
   "outputs": [],
   "source": [
    "!pip install jovian --upgrade -q"
   ]
  },
  {
   "cell_type": "code",
   "execution_count": 15,
   "metadata": {
    "executionInfo": {
     "elapsed": 1069,
     "status": "ok",
     "timestamp": 1610201879907,
     "user": {
      "displayName": "dwik nurdialit",
      "photoUrl": "https://lh3.googleusercontent.com/a-/AOh14Giow_tfZNy4Fx6wEaAzyIWBgpjyR0lyYhLqsu8k8Q=s64",
      "userId": "08741265208720132226"
     },
     "user_tz": -420
    },
    "id": "fIXCxB0Tgsio"
   },
   "outputs": [],
   "source": [
    "import jovian"
   ]
  },
  {
   "cell_type": "code",
   "execution_count": null,
   "metadata": {
    "colab": {
     "base_uri": "https://localhost:8080/"
    },
    "id": "sWqoCRWBguk-",
    "outputId": "1f1c4f5c-372a-4c83-ca3e-eafef070ad4a"
   },
   "outputs": [
    {
     "name": "stdout",
     "output_type": "stream",
     "text": [
      "[jovian] Detected Colab notebook...\u001b[0m\n",
      "[jovian] Please enter your API key ( from https://jovian.ai/ ):\u001b[0m\n",
      "API KEY: "
     ]
    }
   ],
   "source": [
    "jovian.commit(project=project_name)"
   ]
  }
 ],
 "metadata": {
  "colab": {
   "name": "course-project-regression-pytorch.ipynb",
   "provenance": [],
   "toc_visible": true
  },
  "kernelspec": {
   "display_name": "Python 3",
   "language": "python",
   "name": "python3"
  },
  "language_info": {
   "codemirror_mode": {
    "name": "ipython",
    "version": 3
   },
   "file_extension": ".py",
   "mimetype": "text/x-python",
   "name": "python",
   "nbconvert_exporter": "python",
   "pygments_lexer": "ipython3",
   "version": "3.7.6"
  }
 },
 "nbformat": 4,
 "nbformat_minor": 0
}