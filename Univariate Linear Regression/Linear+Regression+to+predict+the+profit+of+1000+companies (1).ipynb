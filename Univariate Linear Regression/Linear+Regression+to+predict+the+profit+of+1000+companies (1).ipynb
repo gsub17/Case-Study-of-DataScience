{
 "cells": [
  {
   "cell_type": "code",
   "execution_count": 1,
   "metadata": {},
   "outputs": [],
   "source": [
    "# Importing the libraries\n",
    "import numpy as np\n",
    "import matplotlib.pyplot as plt\n",
    "import pandas as pd\n",
    "import seaborn as sns\n",
    "%matplotlib inline"
   ]
  },
  {
   "cell_type": "code",
   "execution_count": 2,
   "metadata": {},
   "outputs": [],
   "source": [
    "# Importing the dataset and Extracting the Independent and Dependent variables\n",
    "companies = pd.read_csv('E:/Case-Study-of-DataScience/Univariate Linear Regression/1000_Companies.csv')\n",
    "X = companies.iloc[:, :-1].values\n",
    "y = companies.iloc[:, 4].values"
   ]
  },
  {
   "cell_type": "code",
   "execution_count": 3,
   "metadata": {},
   "outputs": [
    {
     "data": {
      "text/html": [
       "<div>\n",
       "<style scoped>\n",
       "    .dataframe tbody tr th:only-of-type {\n",
       "        vertical-align: middle;\n",
       "    }\n",
       "\n",
       "    .dataframe tbody tr th {\n",
       "        vertical-align: top;\n",
       "    }\n",
       "\n",
       "    .dataframe thead th {\n",
       "        text-align: right;\n",
       "    }\n",
       "</style>\n",
       "<table border=\"1\" class=\"dataframe\">\n",
       "  <thead>\n",
       "    <tr style=\"text-align: right;\">\n",
       "      <th></th>\n",
       "      <th>R&amp;D Spend</th>\n",
       "      <th>Administration</th>\n",
       "      <th>Marketing Spend</th>\n",
       "      <th>State</th>\n",
       "      <th>Profit</th>\n",
       "    </tr>\n",
       "  </thead>\n",
       "  <tbody>\n",
       "    <tr>\n",
       "      <th>0</th>\n",
       "      <td>165349.20</td>\n",
       "      <td>136897.80</td>\n",
       "      <td>471784.10</td>\n",
       "      <td>New York</td>\n",
       "      <td>192261.83</td>\n",
       "    </tr>\n",
       "    <tr>\n",
       "      <th>1</th>\n",
       "      <td>162597.70</td>\n",
       "      <td>151377.59</td>\n",
       "      <td>443898.53</td>\n",
       "      <td>California</td>\n",
       "      <td>191792.06</td>\n",
       "    </tr>\n",
       "    <tr>\n",
       "      <th>2</th>\n",
       "      <td>153441.51</td>\n",
       "      <td>101145.55</td>\n",
       "      <td>407934.54</td>\n",
       "      <td>Florida</td>\n",
       "      <td>191050.39</td>\n",
       "    </tr>\n",
       "    <tr>\n",
       "      <th>3</th>\n",
       "      <td>144372.41</td>\n",
       "      <td>118671.85</td>\n",
       "      <td>383199.62</td>\n",
       "      <td>New York</td>\n",
       "      <td>182901.99</td>\n",
       "    </tr>\n",
       "    <tr>\n",
       "      <th>4</th>\n",
       "      <td>142107.34</td>\n",
       "      <td>91391.77</td>\n",
       "      <td>366168.42</td>\n",
       "      <td>Florida</td>\n",
       "      <td>166187.94</td>\n",
       "    </tr>\n",
       "  </tbody>\n",
       "</table>\n",
       "</div>"
      ],
      "text/plain": [
       "   R&D Spend  Administration  Marketing Spend       State     Profit\n",
       "0  165349.20       136897.80        471784.10    New York  192261.83\n",
       "1  162597.70       151377.59        443898.53  California  191792.06\n",
       "2  153441.51       101145.55        407934.54     Florida  191050.39\n",
       "3  144372.41       118671.85        383199.62    New York  182901.99\n",
       "4  142107.34        91391.77        366168.42     Florida  166187.94"
      ]
     },
     "execution_count": 3,
     "metadata": {},
     "output_type": "execute_result"
    }
   ],
   "source": [
    "companies.head()"
   ]
  },
  {
   "cell_type": "code",
   "execution_count": 4,
   "metadata": {},
   "outputs": [
    {
     "data": {
      "text/plain": [
       "<AxesSubplot:>"
      ]
     },
     "execution_count": 4,
     "metadata": {},
     "output_type": "execute_result"
    },
    {
     "data": {
      "image/png": "[encoded data removed]",
      "text/plain": [
       "<Figure size 432x288 with 2 Axes>"
      ]
     },
     "metadata": {
      "needs_background": "light"
     },
     "output_type": "display_data"
    }
   ],
   "source": [
    "# Data Visualisation\n",
    "# Building the Correlation matrix\n",
    "sns.heatmap(companies.corr())"
   ]
  },
  {
   "cell_type": "code",
   "execution_count": 1,
   "metadata": {},
   "outputs": [
    {
     "ename": "NameError",
     "evalue": "name 'X' is not defined",
     "output_type": "error",
     "traceback": [
      "\u001b[1;31m---------------------------------------------------------------------------\u001b[0m",
      "\u001b[1;31mNameError\u001b[0m                                 Traceback (most recent call last)",
      "\u001b[1;32mC:\\Users\\SUBHAJ~1\\AppData\\Local\\Temp/ipykernel_10448/1078478124.py\u001b[0m in \u001b[0;36m<module>\u001b[1;34m\u001b[0m\n\u001b[0;32m      2\u001b[0m \u001b[1;32mfrom\u001b[0m \u001b[0msklearn\u001b[0m\u001b[1;33m.\u001b[0m\u001b[0mpreprocessing\u001b[0m \u001b[1;32mimport\u001b[0m \u001b[0mLabelEncoder\u001b[0m\u001b[1;33m,\u001b[0m \u001b[0mOneHotEncoder\u001b[0m\u001b[1;33m\u001b[0m\u001b[1;33m\u001b[0m\u001b[0m\n\u001b[0;32m      3\u001b[0m \u001b[0mlabelencoder\u001b[0m \u001b[1;33m=\u001b[0m \u001b[0mLabelEncoder\u001b[0m\u001b[1;33m(\u001b[0m\u001b[1;33m)\u001b[0m\u001b[1;33m\u001b[0m\u001b[1;33m\u001b[0m\u001b[0m\n\u001b[1;32m----> 4\u001b[1;33m \u001b[0mX\u001b[0m\u001b[1;33m.\u001b[0m\u001b[0miloc\u001b[0m\u001b[1;33m[\u001b[0m\u001b[1;33m:\u001b[0m\u001b[1;33m,\u001b[0m \u001b[1;36m3\u001b[0m\u001b[1;33m]\u001b[0m \u001b[1;33m=\u001b[0m \u001b[0mlabelencoder\u001b[0m\u001b[1;33m.\u001b[0m\u001b[0mfit_transform\u001b[0m\u001b[1;33m(\u001b[0m\u001b[0mX\u001b[0m\u001b[1;33m.\u001b[0m\u001b[0miloc\u001b[0m\u001b[1;33m[\u001b[0m\u001b[1;33m:\u001b[0m\u001b[1;33m,\u001b[0m \u001b[1;36m3\u001b[0m\u001b[1;33m]\u001b[0m\u001b[1;33m)\u001b[0m\u001b[1;33m\u001b[0m\u001b[1;33m\u001b[0m\u001b[0m\n\u001b[0m\u001b[0;32m      5\u001b[0m \u001b[0monehotencoder\u001b[0m \u001b[1;33m=\u001b[0m \u001b[0mOneHotEncoder\u001b[0m\u001b[1;33m(\u001b[0m\u001b[0mcategorical_features\u001b[0m \u001b[1;33m=\u001b[0m \u001b[0mX\u001b[0m\u001b[1;33m[\u001b[0m\u001b[1;36m3\u001b[0m\u001b[1;33m]\u001b[0m\u001b[1;33m)\u001b[0m\u001b[1;33m\u001b[0m\u001b[1;33m\u001b[0m\u001b[0m\n\u001b[0;32m      6\u001b[0m \u001b[0mX\u001b[0m \u001b[1;33m=\u001b[0m \u001b[0monehotencoder\u001b[0m\u001b[1;33m.\u001b[0m\u001b[0mfit_transform\u001b[0m\u001b[1;33m(\u001b[0m\u001b[0mX\u001b[0m\u001b[1;33m)\u001b[0m\u001b[1;33m\u001b[0m\u001b[1;33m\u001b[0m\u001b[0m\n",
      "\u001b[1;31mNameError\u001b[0m: name 'X' is not defined"
     ]
    }
   ],
   "source": [
    "# Encoding categorical data\n",
    "from sklearn.preprocessing import LabelEncoder, OneHotEncoder\n",
    "labelencoder = LabelEncoder()\n",
    "X.iloc[:, 3] = labelencoder.fit_transform(X.iloc[:, 3])\n",
    "onehotencoder = OneHotEncoder(categorical_features = X[3])\n",
    "X = onehotencoder.fit_transform(X).toarray()\n"
   ]
  },
  {
   "cell_type": "code",
   "execution_count": 7,
   "metadata": {
    "collapsed": true
   },
   "outputs": [],
   "source": [
    "# Avoiding the Dummy Variable Trap\n",
    "X = X[:, 1:]"
   ]
  },
  {
   "cell_type": "code",
   "execution_count": 8,
   "metadata": {
    "collapsed": true
   },
   "outputs": [],
   "source": [
    "# Splitting the dataset into the Training set and Test set\n",
    "from sklearn.model_selection import train_test_split\n",
    "X_train, X_test, y_train, y_test = train_test_split(X, y, test_size = 0.2, random_state = 0)"
   ]
  },
  {
   "cell_type": "code",
   "execution_count": 9,
   "metadata": {},
   "outputs": [
    {
     "data": {
      "text/plain": [
       "LinearRegression(copy_X=True, fit_intercept=True, n_jobs=1, normalize=False)"
      ]
     },
     "execution_count": 9,
     "metadata": {},
     "output_type": "execute_result"
    }
   ],
   "source": [
    "# Fitting Multiple Linear Regression to the Training set\n",
    "from sklearn.linear_model import LinearRegression\n",
    "regressor = LinearRegression()\n",
    "regressor.fit(X_train, y_train)"
   ]
  },
  {
   "cell_type": "code",
   "execution_count": 15,
   "metadata": {},
   "outputs": [
    {
     "data": {
      "text/plain": [
       "array([  89790.61532915,   88427.07187361,   94894.67836972,\n",
       "        175680.86725611,   83411.73042088,  110571.90200074,\n",
       "        132145.22936439,   91473.37719686,  164597.05380606,\n",
       "         53222.82667401,   66950.19050989,  150566.43987005,\n",
       "        126915.20858596,   59337.8597105 ,  177513.91053062,\n",
       "         75316.28143051,  118248.14406603,  164574.40699902,\n",
       "        170937.2898107 ,  182069.11645084,  118845.03252689,\n",
       "         85669.95112229,  180992.59396144,   84145.08220145,\n",
       "        105005.83769214,  101233.56772747,   53831.07669091,\n",
       "         56881.41475224,   68896.39346905,  210040.00765883,\n",
       "        120778.72270894,  111724.87157654,  101487.90541518,\n",
       "        137959.02649624,   63969.95996743,  108857.91214126,\n",
       "        186014.72531988,  171442.64130747,  174644.26529205,\n",
       "        117671.49128195,   96731.37857433,  165452.25779409,\n",
       "        107724.34331255,   50194.54176913,  116513.89532179,\n",
       "         58632.4898682 ,  158416.4682761 ,   78541.48521609,\n",
       "        159727.66671743,  131137.87699644,  184880.70924516,\n",
       "        174609.0826688 ,   93745.66352059,   78341.13383418,\n",
       "        180745.9043908 ,   84461.61490552,  142900.90602903,\n",
       "        170618.44098397,   84365.09530839,  105307.3716218 ,\n",
       "        141660.07290787,   52527.34340442,  141842.9626416 ,\n",
       "        139176.27973195,   98294.52669666,  113586.86790969,\n",
       "        126754.21895489,  152135.51985562,   58864.51658955,\n",
       "        174285.5736113 ,  124624.04380784,  169065.77658978,\n",
       "         91279.33198209,  156170.37268962,   84307.26579366,\n",
       "         77877.75223097,  120414.02421346,   93380.44273241,\n",
       "        139020.62514121,  143604.67103573,  171148.30815368,\n",
       "        140082.97050131,  106369.71689747,  155641.43851388,\n",
       "        140030.10330037,  110172.87893525,   69672.98677565,\n",
       "         88148.52068041,  140133.59925093,  148479.09537887,\n",
       "        157916.63505257,   58532.94863141,   93707.3842239 ,\n",
       "        112646.37475705,   56556.1894366 ,  107414.89996181,\n",
       "        147352.80227752,  152144.10104034,  167808.11701784,\n",
       "        118750.25230713,  120763.27666701,  139029.95295663,\n",
       "        157527.90934119,  121962.0621496 ,   87091.32399736,\n",
       "        104792.91384333,   95335.22679185,  178389.52287436,\n",
       "        181942.63776381,  109831.34945506,  165254.03344096,\n",
       "        167806.06491902,  158002.44642543,  174782.86900956,\n",
       "        170196.77102699,   52302.18161612,  176938.1159579 ,\n",
       "        104751.83583865,   82710.31528805,  138890.52767844,\n",
       "        144274.74675425,  161679.0183644 ,  169662.05445895,\n",
       "        120450.9231013 ,  158880.70799547,  110213.73252824,\n",
       "        169674.51532366,   60760.61300841,  159036.99629068,\n",
       "        158169.44286048,  174511.70494475,  156294.79927784,\n",
       "        103714.37583212,   85635.96237574,  141603.54878757,\n",
       "        165917.6915698 ,  121182.03641977,  170751.87883894,\n",
       "        100505.77549411,   82097.51033128,  178643.18879843,\n",
       "        101790.48384578,   70507.40958622,   90250.04230088,\n",
       "         61247.4996268 ,   68912.1753452 ,   72775.81613475,\n",
       "        176914.08873124,   89704.69244931,  129209.43730015,\n",
       "         92672.90938383,   88133.59175044,  172836.33021619,\n",
       "         60893.62070014,  169015.8944601 ,  166450.24453204,\n",
       "        165425.54476415,  102170.5169499 ,  181594.57928216,\n",
       "         73702.57942561,   91267.42979668,  135791.54160195,\n",
       "         64922.802573  ,   71775.70235726,   60603.91401515,\n",
       "        184288.61041916,  176286.69585945,  158907.75687039,\n",
       "        141359.32216439,  154611.17928321,   58549.58863233,\n",
       "         90618.58407899,  152885.51163925,  168398.05223805,\n",
       "         72485.36274539,  116064.24350667,   80087.80697208,\n",
       "        149828.90896188,  116806.9595737 ,  130191.48845161,\n",
       "        174534.42670329,  293584.45948283,  146270.83174789,\n",
       "        150646.69178014,   86107.47782247,   69967.20842246,\n",
       "         70096.78368773,   69033.69170769,  120666.75708063,\n",
       "         89677.68014063,  166824.27091662,  125514.76626409,\n",
       "         67209.67687466,  140930.69427702,  118544.30490695,\n",
       "        165897.61905906,  168655.48652552,  147009.66805049,\n",
       "        141396.22104146,  109086.50634849])"
      ]
     },
     "execution_count": 15,
     "metadata": {},
     "output_type": "execute_result"
    }
   ],
   "source": [
    "# Predicting the Test set results\n",
    "y_pred = regressor.predict(X_test)\n",
    "y_pred"
   ]
  },
  {
   "cell_type": "code",
   "execution_count": 12,
   "metadata": {},
   "outputs": [
    {
     "name": "stdout",
     "output_type": "stream",
     "text": [
      "[ -8.80536598e+02  -6.98169073e+02   5.25845857e-01   8.44390881e-01\n",
      "   1.07574255e-01]\n"
     ]
    }
   ],
   "source": [
    "# Calculating the Coefficients\n",
    "print(regressor.coef_)"
   ]
  },
  {
   "cell_type": "code",
   "execution_count": 13,
   "metadata": {},
   "outputs": [
    {
     "name": "stdout",
     "output_type": "stream",
     "text": [
      "-51035.229724\n"
     ]
    }
   ],
   "source": [
    "# Calculating the Intercept\n",
    "print(regressor.intercept_)"
   ]
  },
  {
   "cell_type": "code",
   "execution_count": 14,
   "metadata": {},
   "outputs": [
    {
     "data": {
      "text/plain": [
       "0.91126958922688628"
      ]
     },
     "execution_count": 14,
     "metadata": {},
     "output_type": "execute_result"
    }
   ],
   "source": [
    "# Calculating the R squared value\n",
    "from sklearn.metrics import r2_score\n",
    "r2_score(y_test, y_pred)"
   ]
  },
  {
   "cell_type": "code",
   "execution_count": null,
   "metadata": {
    "collapsed": true
   },
   "outputs": [],
   "source": []
  }
 ],
 "metadata": {
  "kernelspec": {
   "display_name": "Python 3 (ipykernel)",
   "language": "python",
   "name": "python3"
  },
  "language_info": {
   "codemirror_mode": {
    "name": "ipython",
    "version": 3
   },
   "file_extension": ".py",
   "mimetype": "text/x-python",
   "name": "python",
   "nbconvert_exporter": "python",
   "pygments_lexer": "ipython3",
   "version": "3.9.7"
  }
 },
 "nbformat": 4,
 "nbformat_minor": 2
}
