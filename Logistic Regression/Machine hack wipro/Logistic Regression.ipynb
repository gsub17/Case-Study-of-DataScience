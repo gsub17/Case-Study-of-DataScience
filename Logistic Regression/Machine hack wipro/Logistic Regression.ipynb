{
 "cells": [
  {
   "cell_type": "code",
   "execution_count": 1,
   "id": "f3fc826f",
   "metadata": {},
   "outputs": [],
   "source": [
    "import pandas as pd\n",
    "import numpy as np\n",
    "import seaborn as sns\n",
    "import matplotlib.pyplot as plt\n",
    "import math"
   ]
  },
  {
   "cell_type": "markdown",
   "id": "0162ad4b",
   "metadata": {},
   "source": [
    "## Collecting the data"
   ]
  },
  {
   "cell_type": "code",
   "execution_count": 2,
   "id": "944c47ae",
   "metadata": {},
   "outputs": [
    {
     "data": {
      "text/html": [
       "<div>\n",
       "<style scoped>\n",
       "    .dataframe tbody tr th:only-of-type {\n",
       "        vertical-align: middle;\n",
       "    }\n",
       "\n",
       "    .dataframe tbody tr th {\n",
       "        vertical-align: top;\n",
       "    }\n",
       "\n",
       "    .dataframe thead th {\n",
       "        text-align: right;\n",
       "    }\n",
       "</style>\n",
       "<table border=\"1\" class=\"dataframe\">\n",
       "  <thead>\n",
       "    <tr style=\"text-align: right;\">\n",
       "      <th></th>\n",
       "      <th>Year</th>\n",
       "      <th>Month</th>\n",
       "      <th>Day</th>\n",
       "      <th>Hour</th>\n",
       "      <th>Minute</th>\n",
       "      <th>Clearsky DHI</th>\n",
       "      <th>Clearsky DNI</th>\n",
       "      <th>Clearsky GHI</th>\n",
       "      <th>Cloud Type</th>\n",
       "      <th>Dew Point</th>\n",
       "      <th>Temperature</th>\n",
       "      <th>Pressure</th>\n",
       "      <th>Relative Humidity</th>\n",
       "      <th>Solar Zenith Angle</th>\n",
       "      <th>Precipitable Water</th>\n",
       "      <th>Wind Direction</th>\n",
       "      <th>Wind Speed</th>\n",
       "      <th>Fill Flag</th>\n",
       "    </tr>\n",
       "  </thead>\n",
       "  <tbody>\n",
       "    <tr>\n",
       "      <th>0</th>\n",
       "      <td>2009</td>\n",
       "      <td>1</td>\n",
       "      <td>1</td>\n",
       "      <td>0</td>\n",
       "      <td>0</td>\n",
       "      <td>0</td>\n",
       "      <td>0</td>\n",
       "      <td>0</td>\n",
       "      <td>0</td>\n",
       "      <td>0.0</td>\n",
       "      <td>5.0</td>\n",
       "      <td>1010</td>\n",
       "      <td>75.34</td>\n",
       "      <td>106.15</td>\n",
       "      <td>0.499</td>\n",
       "      <td>346.1</td>\n",
       "      <td>3.1</td>\n",
       "      <td>0</td>\n",
       "    </tr>\n",
       "    <tr>\n",
       "      <th>1</th>\n",
       "      <td>2009</td>\n",
       "      <td>1</td>\n",
       "      <td>1</td>\n",
       "      <td>0</td>\n",
       "      <td>30</td>\n",
       "      <td>0</td>\n",
       "      <td>0</td>\n",
       "      <td>0</td>\n",
       "      <td>0</td>\n",
       "      <td>1.0</td>\n",
       "      <td>5.0</td>\n",
       "      <td>1010</td>\n",
       "      <td>80.81</td>\n",
       "      <td>112.28</td>\n",
       "      <td>0.490</td>\n",
       "      <td>346.1</td>\n",
       "      <td>3.1</td>\n",
       "      <td>0</td>\n",
       "    </tr>\n",
       "    <tr>\n",
       "      <th>2</th>\n",
       "      <td>2009</td>\n",
       "      <td>1</td>\n",
       "      <td>1</td>\n",
       "      <td>1</td>\n",
       "      <td>0</td>\n",
       "      <td>0</td>\n",
       "      <td>0</td>\n",
       "      <td>0</td>\n",
       "      <td>4</td>\n",
       "      <td>0.0</td>\n",
       "      <td>5.0</td>\n",
       "      <td>1010</td>\n",
       "      <td>78.27</td>\n",
       "      <td>118.50</td>\n",
       "      <td>0.482</td>\n",
       "      <td>347.9</td>\n",
       "      <td>3.2</td>\n",
       "      <td>0</td>\n",
       "    </tr>\n",
       "    <tr>\n",
       "      <th>3</th>\n",
       "      <td>2009</td>\n",
       "      <td>1</td>\n",
       "      <td>1</td>\n",
       "      <td>1</td>\n",
       "      <td>30</td>\n",
       "      <td>0</td>\n",
       "      <td>0</td>\n",
       "      <td>0</td>\n",
       "      <td>4</td>\n",
       "      <td>0.0</td>\n",
       "      <td>4.0</td>\n",
       "      <td>1010</td>\n",
       "      <td>78.27</td>\n",
       "      <td>124.78</td>\n",
       "      <td>0.478</td>\n",
       "      <td>347.9</td>\n",
       "      <td>3.1</td>\n",
       "      <td>0</td>\n",
       "    </tr>\n",
       "    <tr>\n",
       "      <th>4</th>\n",
       "      <td>2009</td>\n",
       "      <td>1</td>\n",
       "      <td>1</td>\n",
       "      <td>2</td>\n",
       "      <td>0</td>\n",
       "      <td>0</td>\n",
       "      <td>0</td>\n",
       "      <td>0</td>\n",
       "      <td>4</td>\n",
       "      <td>0.0</td>\n",
       "      <td>4.0</td>\n",
       "      <td>1010</td>\n",
       "      <td>76.45</td>\n",
       "      <td>131.12</td>\n",
       "      <td>0.475</td>\n",
       "      <td>350.0</td>\n",
       "      <td>3.0</td>\n",
       "      <td>0</td>\n",
       "    </tr>\n",
       "  </tbody>\n",
       "</table>\n",
       "</div>"
      ],
      "text/plain": [
       "   Year  Month  Day  Hour  Minute  Clearsky DHI  Clearsky DNI  Clearsky GHI  \\\n",
       "0  2009      1    1     0       0             0             0             0   \n",
       "1  2009      1    1     0      30             0             0             0   \n",
       "2  2009      1    1     1       0             0             0             0   \n",
       "3  2009      1    1     1      30             0             0             0   \n",
       "4  2009      1    1     2       0             0             0             0   \n",
       "\n",
       "   Cloud Type  Dew Point  Temperature  Pressure  Relative Humidity  \\\n",
       "0           0        0.0          5.0      1010              75.34   \n",
       "1           0        1.0          5.0      1010              80.81   \n",
       "2           4        0.0          5.0      1010              78.27   \n",
       "3           4        0.0          4.0      1010              78.27   \n",
       "4           4        0.0          4.0      1010              76.45   \n",
       "\n",
       "   Solar Zenith Angle  Precipitable Water  Wind Direction  Wind Speed  \\\n",
       "0              106.15               0.499           346.1         3.1   \n",
       "1              112.28               0.490           346.1         3.1   \n",
       "2              118.50               0.482           347.9         3.2   \n",
       "3              124.78               0.478           347.9         3.1   \n",
       "4              131.12               0.475           350.0         3.0   \n",
       "\n",
       "   Fill Flag  \n",
       "0          0  \n",
       "1          0  \n",
       "2          0  \n",
       "3          0  \n",
       "4          0  "
      ]
     },
     "execution_count": 2,
     "metadata": {},
     "output_type": "execute_result"
    }
   ],
   "source": [
    "titanic_data = pd.read_csv(\"train.csv\")\n",
    "titanic_data.head()"
   ]
  },
  {
   "cell_type": "code",
   "execution_count": 3,
   "id": "a62b3429",
   "metadata": {},
   "outputs": [
    {
     "name": "stdout",
     "output_type": "stream",
     "text": [
      "no of passenger 175296\n"
     ]
    }
   ],
   "source": [
    "print(\"no of passenger \"+ str(len(titanic_data)))"
   ]
  },
  {
   "cell_type": "code",
   "execution_count": 4,
   "id": "908559c6",
   "metadata": {},
   "outputs": [
    {
     "name": "stdout",
     "output_type": "stream",
     "text": [
      "<class 'pandas.core.frame.DataFrame'>\n",
      "RangeIndex: 175296 entries, 0 to 175295\n",
      "Data columns (total 18 columns):\n",
      " #   Column              Non-Null Count   Dtype  \n",
      "---  ------              --------------   -----  \n",
      " 0   Year                175296 non-null  int64  \n",
      " 1   Month               175296 non-null  int64  \n",
      " 2   Day                 175296 non-null  int64  \n",
      " 3   Hour                175296 non-null  int64  \n",
      " 4   Minute              175296 non-null  int64  \n",
      " 5   Clearsky DHI        175296 non-null  int64  \n",
      " 6   Clearsky DNI        175296 non-null  int64  \n",
      " 7   Clearsky GHI        175296 non-null  int64  \n",
      " 8   Cloud Type          175296 non-null  int64  \n",
      " 9   Dew Point           175296 non-null  float64\n",
      " 10  Temperature         175296 non-null  float64\n",
      " 11  Pressure            175296 non-null  int64  \n",
      " 12  Relative Humidity   175296 non-null  float64\n",
      " 13  Solar Zenith Angle  175296 non-null  float64\n",
      " 14  Precipitable Water  175296 non-null  float64\n",
      " 15  Wind Direction      175296 non-null  float64\n",
      " 16  Wind Speed          175296 non-null  float64\n",
      " 17  Fill Flag           175296 non-null  int64  \n",
      "dtypes: float64(7), int64(11)\n",
      "memory usage: 24.1 MB\n"
     ]
    }
   ],
   "source": [
    "titanic_data.info()"
   ]
  },
  {
   "cell_type": "code",
   "execution_count": 5,
   "id": "8efedfb3",
   "metadata": {},
   "outputs": [
    {
     "data": {
      "text/html": [
       "<div>\n",
       "<style scoped>\n",
       "    .dataframe tbody tr th:only-of-type {\n",
       "        vertical-align: middle;\n",
       "    }\n",
       "\n",
       "    .dataframe tbody tr th {\n",
       "        vertical-align: top;\n",
       "    }\n",
       "\n",
       "    .dataframe thead th {\n",
       "        text-align: right;\n",
       "    }\n",
       "</style>\n",
       "<table border=\"1\" class=\"dataframe\">\n",
       "  <thead>\n",
       "    <tr style=\"text-align: right;\">\n",
       "      <th></th>\n",
       "      <th>Year</th>\n",
       "      <th>Month</th>\n",
       "      <th>Day</th>\n",
       "      <th>Hour</th>\n",
       "      <th>Minute</th>\n",
       "      <th>Clearsky DHI</th>\n",
       "      <th>Clearsky DNI</th>\n",
       "      <th>Clearsky GHI</th>\n",
       "      <th>Cloud Type</th>\n",
       "      <th>Dew Point</th>\n",
       "      <th>Temperature</th>\n",
       "      <th>Pressure</th>\n",
       "      <th>Relative Humidity</th>\n",
       "      <th>Solar Zenith Angle</th>\n",
       "      <th>Precipitable Water</th>\n",
       "      <th>Wind Direction</th>\n",
       "      <th>Wind Speed</th>\n",
       "      <th>Fill Flag</th>\n",
       "    </tr>\n",
       "  </thead>\n",
       "  <tbody>\n",
       "    <tr>\n",
       "      <th>0</th>\n",
       "      <td>False</td>\n",
       "      <td>False</td>\n",
       "      <td>False</td>\n",
       "      <td>False</td>\n",
       "      <td>False</td>\n",
       "      <td>False</td>\n",
       "      <td>False</td>\n",
       "      <td>False</td>\n",
       "      <td>False</td>\n",
       "      <td>False</td>\n",
       "      <td>False</td>\n",
       "      <td>False</td>\n",
       "      <td>False</td>\n",
       "      <td>False</td>\n",
       "      <td>False</td>\n",
       "      <td>False</td>\n",
       "      <td>False</td>\n",
       "      <td>False</td>\n",
       "    </tr>\n",
       "    <tr>\n",
       "      <th>1</th>\n",
       "      <td>False</td>\n",
       "      <td>False</td>\n",
       "      <td>False</td>\n",
       "      <td>False</td>\n",
       "      <td>False</td>\n",
       "      <td>False</td>\n",
       "      <td>False</td>\n",
       "      <td>False</td>\n",
       "      <td>False</td>\n",
       "      <td>False</td>\n",
       "      <td>False</td>\n",
       "      <td>False</td>\n",
       "      <td>False</td>\n",
       "      <td>False</td>\n",
       "      <td>False</td>\n",
       "      <td>False</td>\n",
       "      <td>False</td>\n",
       "      <td>False</td>\n",
       "    </tr>\n",
       "    <tr>\n",
       "      <th>2</th>\n",
       "      <td>False</td>\n",
       "      <td>False</td>\n",
       "      <td>False</td>\n",
       "      <td>False</td>\n",
       "      <td>False</td>\n",
       "      <td>False</td>\n",
       "      <td>False</td>\n",
       "      <td>False</td>\n",
       "      <td>False</td>\n",
       "      <td>False</td>\n",
       "      <td>False</td>\n",
       "      <td>False</td>\n",
       "      <td>False</td>\n",
       "      <td>False</td>\n",
       "      <td>False</td>\n",
       "      <td>False</td>\n",
       "      <td>False</td>\n",
       "      <td>False</td>\n",
       "    </tr>\n",
       "    <tr>\n",
       "      <th>3</th>\n",
       "      <td>False</td>\n",
       "      <td>False</td>\n",
       "      <td>False</td>\n",
       "      <td>False</td>\n",
       "      <td>False</td>\n",
       "      <td>False</td>\n",
       "      <td>False</td>\n",
       "      <td>False</td>\n",
       "      <td>False</td>\n",
       "      <td>False</td>\n",
       "      <td>False</td>\n",
       "      <td>False</td>\n",
       "      <td>False</td>\n",
       "      <td>False</td>\n",
       "      <td>False</td>\n",
       "      <td>False</td>\n",
       "      <td>False</td>\n",
       "      <td>False</td>\n",
       "    </tr>\n",
       "    <tr>\n",
       "      <th>4</th>\n",
       "      <td>False</td>\n",
       "      <td>False</td>\n",
       "      <td>False</td>\n",
       "      <td>False</td>\n",
       "      <td>False</td>\n",
       "      <td>False</td>\n",
       "      <td>False</td>\n",
       "      <td>False</td>\n",
       "      <td>False</td>\n",
       "      <td>False</td>\n",
       "      <td>False</td>\n",
       "      <td>False</td>\n",
       "      <td>False</td>\n",
       "      <td>False</td>\n",
       "      <td>False</td>\n",
       "      <td>False</td>\n",
       "      <td>False</td>\n",
       "      <td>False</td>\n",
       "    </tr>\n",
       "    <tr>\n",
       "      <th>...</th>\n",
       "      <td>...</td>\n",
       "      <td>...</td>\n",
       "      <td>...</td>\n",
       "      <td>...</td>\n",
       "      <td>...</td>\n",
       "      <td>...</td>\n",
       "      <td>...</td>\n",
       "      <td>...</td>\n",
       "      <td>...</td>\n",
       "      <td>...</td>\n",
       "      <td>...</td>\n",
       "      <td>...</td>\n",
       "      <td>...</td>\n",
       "      <td>...</td>\n",
       "      <td>...</td>\n",
       "      <td>...</td>\n",
       "      <td>...</td>\n",
       "      <td>...</td>\n",
       "    </tr>\n",
       "    <tr>\n",
       "      <th>175291</th>\n",
       "      <td>False</td>\n",
       "      <td>False</td>\n",
       "      <td>False</td>\n",
       "      <td>False</td>\n",
       "      <td>False</td>\n",
       "      <td>False</td>\n",
       "      <td>False</td>\n",
       "      <td>False</td>\n",
       "      <td>False</td>\n",
       "      <td>False</td>\n",
       "      <td>False</td>\n",
       "      <td>False</td>\n",
       "      <td>False</td>\n",
       "      <td>False</td>\n",
       "      <td>False</td>\n",
       "      <td>False</td>\n",
       "      <td>False</td>\n",
       "      <td>False</td>\n",
       "    </tr>\n",
       "    <tr>\n",
       "      <th>175292</th>\n",
       "      <td>False</td>\n",
       "      <td>False</td>\n",
       "      <td>False</td>\n",
       "      <td>False</td>\n",
       "      <td>False</td>\n",
       "      <td>False</td>\n",
       "      <td>False</td>\n",
       "      <td>False</td>\n",
       "      <td>False</td>\n",
       "      <td>False</td>\n",
       "      <td>False</td>\n",
       "      <td>False</td>\n",
       "      <td>False</td>\n",
       "      <td>False</td>\n",
       "      <td>False</td>\n",
       "      <td>False</td>\n",
       "      <td>False</td>\n",
       "      <td>False</td>\n",
       "    </tr>\n",
       "    <tr>\n",
       "      <th>175293</th>\n",
       "      <td>False</td>\n",
       "      <td>False</td>\n",
       "      <td>False</td>\n",
       "      <td>False</td>\n",
       "      <td>False</td>\n",
       "      <td>False</td>\n",
       "      <td>False</td>\n",
       "      <td>False</td>\n",
       "      <td>False</td>\n",
       "      <td>False</td>\n",
       "      <td>False</td>\n",
       "      <td>False</td>\n",
       "      <td>False</td>\n",
       "      <td>False</td>\n",
       "      <td>False</td>\n",
       "      <td>False</td>\n",
       "      <td>False</td>\n",
       "      <td>False</td>\n",
       "    </tr>\n",
       "    <tr>\n",
       "      <th>175294</th>\n",
       "      <td>False</td>\n",
       "      <td>False</td>\n",
       "      <td>False</td>\n",
       "      <td>False</td>\n",
       "      <td>False</td>\n",
       "      <td>False</td>\n",
       "      <td>False</td>\n",
       "      <td>False</td>\n",
       "      <td>False</td>\n",
       "      <td>False</td>\n",
       "      <td>False</td>\n",
       "      <td>False</td>\n",
       "      <td>False</td>\n",
       "      <td>False</td>\n",
       "      <td>False</td>\n",
       "      <td>False</td>\n",
       "      <td>False</td>\n",
       "      <td>False</td>\n",
       "    </tr>\n",
       "    <tr>\n",
       "      <th>175295</th>\n",
       "      <td>False</td>\n",
       "      <td>False</td>\n",
       "      <td>False</td>\n",
       "      <td>False</td>\n",
       "      <td>False</td>\n",
       "      <td>False</td>\n",
       "      <td>False</td>\n",
       "      <td>False</td>\n",
       "      <td>False</td>\n",
       "      <td>False</td>\n",
       "      <td>False</td>\n",
       "      <td>False</td>\n",
       "      <td>False</td>\n",
       "      <td>False</td>\n",
       "      <td>False</td>\n",
       "      <td>False</td>\n",
       "      <td>False</td>\n",
       "      <td>False</td>\n",
       "    </tr>\n",
       "  </tbody>\n",
       "</table>\n",
       "<p>175296 rows × 18 columns</p>\n",
       "</div>"
      ],
      "text/plain": [
       "         Year  Month    Day   Hour  Minute  Clearsky DHI  Clearsky DNI  \\\n",
       "0       False  False  False  False   False         False         False   \n",
       "1       False  False  False  False   False         False         False   \n",
       "2       False  False  False  False   False         False         False   \n",
       "3       False  False  False  False   False         False         False   \n",
       "4       False  False  False  False   False         False         False   \n",
       "...       ...    ...    ...    ...     ...           ...           ...   \n",
       "175291  False  False  False  False   False         False         False   \n",
       "175292  False  False  False  False   False         False         False   \n",
       "175293  False  False  False  False   False         False         False   \n",
       "175294  False  False  False  False   False         False         False   \n",
       "175295  False  False  False  False   False         False         False   \n",
       "\n",
       "        Clearsky GHI  Cloud Type  Dew Point  Temperature  Pressure  \\\n",
       "0              False       False      False        False     False   \n",
       "1              False       False      False        False     False   \n",
       "2              False       False      False        False     False   \n",
       "3              False       False      False        False     False   \n",
       "4              False       False      False        False     False   \n",
       "...              ...         ...        ...          ...       ...   \n",
       "175291         False       False      False        False     False   \n",
       "175292         False       False      False        False     False   \n",
       "175293         False       False      False        False     False   \n",
       "175294         False       False      False        False     False   \n",
       "175295         False       False      False        False     False   \n",
       "\n",
       "        Relative Humidity  Solar Zenith Angle  Precipitable Water  \\\n",
       "0                   False               False               False   \n",
       "1                   False               False               False   \n",
       "2                   False               False               False   \n",
       "3                   False               False               False   \n",
       "4                   False               False               False   \n",
       "...                   ...                 ...                 ...   \n",
       "175291              False               False               False   \n",
       "175292              False               False               False   \n",
       "175293              False               False               False   \n",
       "175294              False               False               False   \n",
       "175295              False               False               False   \n",
       "\n",
       "        Wind Direction  Wind Speed  Fill Flag  \n",
       "0                False       False      False  \n",
       "1                False       False      False  \n",
       "2                False       False      False  \n",
       "3                False       False      False  \n",
       "4                False       False      False  \n",
       "...                ...         ...        ...  \n",
       "175291           False       False      False  \n",
       "175292           False       False      False  \n",
       "175293           False       False      False  \n",
       "175294           False       False      False  \n",
       "175295           False       False      False  \n",
       "\n",
       "[175296 rows x 18 columns]"
      ]
     },
     "execution_count": 5,
     "metadata": {},
     "output_type": "execute_result"
    }
   ],
   "source": [
    "titanic_data.isnull() # false means not null "
   ]
  },
  {
   "cell_type": "code",
   "execution_count": 6,
   "id": "262a78bb",
   "metadata": {},
   "outputs": [
    {
     "data": {
      "text/plain": [
       "Year                  0\n",
       "Month                 0\n",
       "Day                   0\n",
       "Hour                  0\n",
       "Minute                0\n",
       "Clearsky DHI          0\n",
       "Clearsky DNI          0\n",
       "Clearsky GHI          0\n",
       "Cloud Type            0\n",
       "Dew Point             0\n",
       "Temperature           0\n",
       "Pressure              0\n",
       "Relative Humidity     0\n",
       "Solar Zenith Angle    0\n",
       "Precipitable Water    0\n",
       "Wind Direction        0\n",
       "Wind Speed            0\n",
       "Fill Flag             0\n",
       "dtype: int64"
      ]
     },
     "execution_count": 6,
     "metadata": {},
     "output_type": "execute_result"
    }
   ],
   "source": [
    "titanic_data.isnull().sum()"
   ]
  },
  {
   "cell_type": "code",
   "execution_count": 7,
   "id": "83ff6026",
   "metadata": {},
   "outputs": [
    {
     "data": {
      "text/html": [
       "<div>\n",
       "<style scoped>\n",
       "    .dataframe tbody tr th:only-of-type {\n",
       "        vertical-align: middle;\n",
       "    }\n",
       "\n",
       "    .dataframe tbody tr th {\n",
       "        vertical-align: top;\n",
       "    }\n",
       "\n",
       "    .dataframe thead th {\n",
       "        text-align: right;\n",
       "    }\n",
       "</style>\n",
       "<table border=\"1\" class=\"dataframe\">\n",
       "  <thead>\n",
       "    <tr style=\"text-align: right;\">\n",
       "      <th></th>\n",
       "      <th>Year</th>\n",
       "      <th>Month</th>\n",
       "      <th>Day</th>\n",
       "      <th>Hour</th>\n",
       "      <th>Minute</th>\n",
       "      <th>Clearsky DHI</th>\n",
       "      <th>Clearsky DNI</th>\n",
       "      <th>Clearsky GHI</th>\n",
       "      <th>Cloud Type</th>\n",
       "      <th>Dew Point</th>\n",
       "      <th>Temperature</th>\n",
       "      <th>Pressure</th>\n",
       "      <th>Relative Humidity</th>\n",
       "      <th>Solar Zenith Angle</th>\n",
       "      <th>Precipitable Water</th>\n",
       "      <th>Wind Direction</th>\n",
       "      <th>Wind Speed</th>\n",
       "      <th>Fill Flag</th>\n",
       "    </tr>\n",
       "  </thead>\n",
       "  <tbody>\n",
       "    <tr>\n",
       "      <th>0</th>\n",
       "      <td>2009</td>\n",
       "      <td>1</td>\n",
       "      <td>1</td>\n",
       "      <td>0</td>\n",
       "      <td>0</td>\n",
       "      <td>0</td>\n",
       "      <td>0</td>\n",
       "      <td>0</td>\n",
       "      <td>0</td>\n",
       "      <td>0.0</td>\n",
       "      <td>5.0</td>\n",
       "      <td>1010</td>\n",
       "      <td>75.34</td>\n",
       "      <td>106.15</td>\n",
       "      <td>0.499</td>\n",
       "      <td>346.1</td>\n",
       "      <td>3.1</td>\n",
       "      <td>0</td>\n",
       "    </tr>\n",
       "    <tr>\n",
       "      <th>1</th>\n",
       "      <td>2009</td>\n",
       "      <td>1</td>\n",
       "      <td>1</td>\n",
       "      <td>0</td>\n",
       "      <td>30</td>\n",
       "      <td>0</td>\n",
       "      <td>0</td>\n",
       "      <td>0</td>\n",
       "      <td>0</td>\n",
       "      <td>1.0</td>\n",
       "      <td>5.0</td>\n",
       "      <td>1010</td>\n",
       "      <td>80.81</td>\n",
       "      <td>112.28</td>\n",
       "      <td>0.490</td>\n",
       "      <td>346.1</td>\n",
       "      <td>3.1</td>\n",
       "      <td>0</td>\n",
       "    </tr>\n",
       "    <tr>\n",
       "      <th>2</th>\n",
       "      <td>2009</td>\n",
       "      <td>1</td>\n",
       "      <td>1</td>\n",
       "      <td>1</td>\n",
       "      <td>0</td>\n",
       "      <td>0</td>\n",
       "      <td>0</td>\n",
       "      <td>0</td>\n",
       "      <td>4</td>\n",
       "      <td>0.0</td>\n",
       "      <td>5.0</td>\n",
       "      <td>1010</td>\n",
       "      <td>78.27</td>\n",
       "      <td>118.50</td>\n",
       "      <td>0.482</td>\n",
       "      <td>347.9</td>\n",
       "      <td>3.2</td>\n",
       "      <td>0</td>\n",
       "    </tr>\n",
       "    <tr>\n",
       "      <th>3</th>\n",
       "      <td>2009</td>\n",
       "      <td>1</td>\n",
       "      <td>1</td>\n",
       "      <td>1</td>\n",
       "      <td>30</td>\n",
       "      <td>0</td>\n",
       "      <td>0</td>\n",
       "      <td>0</td>\n",
       "      <td>4</td>\n",
       "      <td>0.0</td>\n",
       "      <td>4.0</td>\n",
       "      <td>1010</td>\n",
       "      <td>78.27</td>\n",
       "      <td>124.78</td>\n",
       "      <td>0.478</td>\n",
       "      <td>347.9</td>\n",
       "      <td>3.1</td>\n",
       "      <td>0</td>\n",
       "    </tr>\n",
       "    <tr>\n",
       "      <th>4</th>\n",
       "      <td>2009</td>\n",
       "      <td>1</td>\n",
       "      <td>1</td>\n",
       "      <td>2</td>\n",
       "      <td>0</td>\n",
       "      <td>0</td>\n",
       "      <td>0</td>\n",
       "      <td>0</td>\n",
       "      <td>4</td>\n",
       "      <td>0.0</td>\n",
       "      <td>4.0</td>\n",
       "      <td>1010</td>\n",
       "      <td>76.45</td>\n",
       "      <td>131.12</td>\n",
       "      <td>0.475</td>\n",
       "      <td>350.0</td>\n",
       "      <td>3.0</td>\n",
       "      <td>0</td>\n",
       "    </tr>\n",
       "  </tbody>\n",
       "</table>\n",
       "</div>"
      ],
      "text/plain": [
       "   Year  Month  Day  Hour  Minute  Clearsky DHI  Clearsky DNI  Clearsky GHI  \\\n",
       "0  2009      1    1     0       0             0             0             0   \n",
       "1  2009      1    1     0      30             0             0             0   \n",
       "2  2009      1    1     1       0             0             0             0   \n",
       "3  2009      1    1     1      30             0             0             0   \n",
       "4  2009      1    1     2       0             0             0             0   \n",
       "\n",
       "   Cloud Type  Dew Point  Temperature  Pressure  Relative Humidity  \\\n",
       "0           0        0.0          5.0      1010              75.34   \n",
       "1           0        1.0          5.0      1010              80.81   \n",
       "2           4        0.0          5.0      1010              78.27   \n",
       "3           4        0.0          4.0      1010              78.27   \n",
       "4           4        0.0          4.0      1010              76.45   \n",
       "\n",
       "   Solar Zenith Angle  Precipitable Water  Wind Direction  Wind Speed  \\\n",
       "0              106.15               0.499           346.1         3.1   \n",
       "1              112.28               0.490           346.1         3.1   \n",
       "2              118.50               0.482           347.9         3.2   \n",
       "3              124.78               0.478           347.9         3.1   \n",
       "4              131.12               0.475           350.0         3.0   \n",
       "\n",
       "   Fill Flag  \n",
       "0          0  \n",
       "1          0  \n",
       "2          0  \n",
       "3          0  \n",
       "4          0  "
      ]
     },
     "execution_count": 7,
     "metadata": {},
     "output_type": "execute_result"
    }
   ],
   "source": [
    "titanic_data.head()"
   ]
  },
  {
   "cell_type": "code",
   "execution_count": 8,
   "id": "fd49da69",
   "metadata": {},
   "outputs": [
    {
     "name": "stdout",
     "output_type": "stream",
     "text": [
      "<class 'pandas.core.frame.DataFrame'>\n",
      "RangeIndex: 175296 entries, 0 to 175295\n",
      "Data columns (total 18 columns):\n",
      " #   Column              Non-Null Count   Dtype  \n",
      "---  ------              --------------   -----  \n",
      " 0   Year                175296 non-null  int64  \n",
      " 1   Month               175296 non-null  int64  \n",
      " 2   Day                 175296 non-null  int64  \n",
      " 3   Hour                175296 non-null  int64  \n",
      " 4   Minute              175296 non-null  int64  \n",
      " 5   Clearsky DHI        175296 non-null  int64  \n",
      " 6   Clearsky DNI        175296 non-null  int64  \n",
      " 7   Clearsky GHI        175296 non-null  int64  \n",
      " 8   Cloud Type          175296 non-null  int64  \n",
      " 9   Dew Point           175296 non-null  float64\n",
      " 10  Temperature         175296 non-null  float64\n",
      " 11  Pressure            175296 non-null  int64  \n",
      " 12  Relative Humidity   175296 non-null  float64\n",
      " 13  Solar Zenith Angle  175296 non-null  float64\n",
      " 14  Precipitable Water  175296 non-null  float64\n",
      " 15  Wind Direction      175296 non-null  float64\n",
      " 16  Wind Speed          175296 non-null  float64\n",
      " 17  Fill Flag           175296 non-null  int64  \n",
      "dtypes: float64(7), int64(11)\n",
      "memory usage: 24.1 MB\n"
     ]
    }
   ],
   "source": [
    "titanic_data.info()"
   ]
  },
  {
   "cell_type": "markdown",
   "id": "0b029dd1",
   "metadata": {},
   "source": [
    " ## Training and Testing Data"
   ]
  },
  {
   "cell_type": "code",
   "execution_count": 23,
   "id": "98e1c833",
   "metadata": {},
   "outputs": [
    {
     "data": {
      "text/plain": [
       "(175296,)"
      ]
     },
     "execution_count": 23,
     "metadata": {},
     "output_type": "execute_result"
    }
   ],
   "source": [
    "y = titanic_data['Clearsky DHI']\n",
    "y.head()\n",
    "y.shape"
   ]
  },
  {
   "cell_type": "code",
   "execution_count": 18,
   "id": "18a52eb8",
   "metadata": {},
   "outputs": [
    {
     "data": {
      "text/plain": [
       "(175296, 15)"
      ]
     },
     "execution_count": 18,
     "metadata": {},
     "output_type": "execute_result"
    }
   ],
   "source": [
    "X = titanic_data.drop(['Clearsky DHI','Clearsky DNI','Clearsky GHI'],axis=1)\n",
    "X.head()\n",
    "X.shape"
   ]
  },
  {
   "cell_type": "code",
   "execution_count": 19,
   "id": "f8a14e0a",
   "metadata": {},
   "outputs": [],
   "source": [
    "from sklearn.model_selection import train_test_split"
   ]
  },
  {
   "cell_type": "code",
   "execution_count": 27,
   "id": "6100e90a",
   "metadata": {},
   "outputs": [],
   "source": [
    "X_train, X_test, y_train, y_test = train_test_split( X, y, test_size=0.3, random_state=1)"
   ]
  },
  {
   "cell_type": "code",
   "execution_count": 30,
   "id": "f9c85af7",
   "metadata": {},
   "outputs": [],
   "source": [
    "from sklearn.linear_model import LogisticRegression"
   ]
  },
  {
   "cell_type": "code",
   "execution_count": 31,
   "id": "35bf4557",
   "metadata": {},
   "outputs": [
    {
     "name": "stderr",
     "output_type": "stream",
     "text": [
      "C:\\Users\\Subhajit ghosh\\lib\\site-packages\\sklearn\\linear_model\\_logistic.py:814: ConvergenceWarning: lbfgs failed to converge (status=1):\n",
      "STOP: TOTAL NO. of ITERATIONS REACHED LIMIT.\n",
      "\n",
      "Increase the number of iterations (max_iter) or scale the data as shown in:\n",
      "    https://scikit-learn.org/stable/modules/preprocessing.html\n",
      "Please also refer to the documentation for alternative solver options:\n",
      "    https://scikit-learn.org/stable/modules/linear_model.html#logistic-regression\n",
      "  n_iter_i = _check_optimize_result(\n"
     ]
    },
    {
     "data": {
      "text/plain": [
       "LogisticRegression()"
      ]
     },
     "execution_count": 31,
     "metadata": {},
     "output_type": "execute_result"
    }
   ],
   "source": [
    "logmodel = LogisticRegression()\n",
    "logmodel.fit(X_train,y_train)"
   ]
  },
  {
   "cell_type": "code",
   "execution_count": 32,
   "id": "bbde8ee2",
   "metadata": {},
   "outputs": [
    {
     "data": {
      "text/plain": [
       "52589"
      ]
     },
     "execution_count": 32,
     "metadata": {},
     "output_type": "execute_result"
    }
   ],
   "source": [
    "predict = logmodel.predict(X_test)\n",
    "predict.size"
   ]
  },
  {
   "cell_type": "code",
   "execution_count": 33,
   "id": "443ebaf1",
   "metadata": {},
   "outputs": [],
   "source": [
    "from sklearn.metrics import classification_report"
   ]
  },
  {
   "cell_type": "code",
   "execution_count": 34,
   "id": "4b4d09a3",
   "metadata": {},
   "outputs": [
    {
     "name": "stderr",
     "output_type": "stream",
     "text": [
      "C:\\Users\\Subhajit ghosh\\lib\\site-packages\\sklearn\\metrics\\_classification.py:1308: UndefinedMetricWarning: Precision and F-score are ill-defined and being set to 0.0 in labels with no predicted samples. Use `zero_division` parameter to control this behavior.\n",
      "  _warn_prf(average, modifier, msg_start, len(result))\n",
      "C:\\Users\\Subhajit ghosh\\lib\\site-packages\\sklearn\\metrics\\_classification.py:1308: UndefinedMetricWarning: Precision and F-score are ill-defined and being set to 0.0 in labels with no predicted samples. Use `zero_division` parameter to control this behavior.\n",
      "  _warn_prf(average, modifier, msg_start, len(result))\n",
      "C:\\Users\\Subhajit ghosh\\lib\\site-packages\\sklearn\\metrics\\_classification.py:1308: UndefinedMetricWarning: Precision and F-score are ill-defined and being set to 0.0 in labels with no predicted samples. Use `zero_division` parameter to control this behavior.\n",
      "  _warn_prf(average, modifier, msg_start, len(result))\n"
     ]
    },
    {
     "data": {
      "text/plain": [
       "'              precision    recall  f1-score   support\\n\\n           0       0.88      1.00      0.94     26584\\n           1       0.00      0.00      0.00         6\\n           2       0.00      0.00      0.00        19\\n           3       0.00      0.00      0.00        14\\n           4       0.00      0.00      0.00        23\\n           5       0.00      0.00      0.00        12\\n           6       0.00      0.00      0.00        26\\n           7       0.00      0.00      0.00        33\\n           8       0.00      0.00      0.00        45\\n           9       0.00      0.00      0.00        60\\n          10       0.00      0.00      0.00        55\\n          11       0.00      0.00      0.00        70\\n          12       0.00      0.00      0.00        58\\n          13       0.00      0.00      0.00        62\\n          14       0.00      0.00      0.00        56\\n          15       0.00      0.00      0.00        39\\n          16       0.00      0.00      0.00        58\\n          17       0.00      0.00      0.00        51\\n          18       0.00      0.00      0.00        58\\n          19       0.00      0.00      0.00        36\\n          20       0.00      0.00      0.00        58\\n          21       0.00      0.00      0.00        63\\n          22       0.00      0.00      0.00        52\\n          23       0.00      0.00      0.00        57\\n          24       0.00      0.00      0.00        78\\n          25       0.00      0.00      0.00        60\\n          26       0.00      0.00      0.00        97\\n          27       0.00      0.00      0.00        65\\n          28       0.00      0.00      0.00        78\\n          29       0.00      0.00      0.00        88\\n          30       0.00      0.00      0.00        91\\n          31       0.00      0.00      0.00        98\\n          32       0.00      0.00      0.00        71\\n          33       0.00      0.00      0.00        71\\n          34       0.00      0.00      0.00        77\\n          35       0.00      0.00      0.00        83\\n          36       0.00      0.00      0.00        67\\n          37       0.00      0.00      0.00        66\\n          38       0.00      0.00      0.00        74\\n          39       0.00      0.00      0.00        86\\n          40       0.00      0.00      0.00        69\\n          41       0.00      0.00      0.00        71\\n          42       0.00      0.00      0.00        95\\n          43       0.00      0.00      0.00        97\\n          44       0.00      0.00      0.00        83\\n          45       0.00      0.00      0.00        82\\n          46       0.00      0.00      0.00        94\\n          47       0.00      0.00      0.00       101\\n          48       0.00      0.00      0.00        91\\n          49       0.00      0.00      0.00        97\\n          50       0.00      0.00      0.00       106\\n          51       0.00      0.00      0.00        94\\n          52       0.00      0.00      0.00       104\\n          53       0.00      0.00      0.00       108\\n          54       0.00      0.00      0.00       117\\n          55       0.00      0.00      0.00       106\\n          56       0.00      0.00      0.00       121\\n          57       0.00      0.00      0.00       122\\n          58       0.00      0.00      0.00       112\\n          59       0.00      0.00      0.00       140\\n          60       0.00      0.00      0.00       132\\n          61       0.00      0.00      0.00       130\\n          62       0.00      0.00      0.00       130\\n          63       0.00      0.00      0.00       138\\n          64       0.00      0.00      0.00       148\\n          65       0.00      0.00      0.00       146\\n          66       0.00      0.00      0.00       160\\n          67       0.00      0.00      0.00       148\\n          68       0.00      0.00      0.00       177\\n          69       0.00      0.00      0.00       191\\n          70       0.00      0.00      0.00       191\\n          71       0.00      0.00      0.00       184\\n          72       0.00      0.00      0.00       187\\n          73       0.00      0.00      0.00       181\\n          74       0.00      0.00      0.00       191\\n          75       0.00      0.00      0.00       221\\n          76       0.00      0.00      0.00       225\\n          77       0.00      0.00      0.00       205\\n          78       0.00      0.00      0.00       226\\n          79       0.00      0.00      0.00       223\\n          80       0.00      0.00      0.00       234\\n          81       0.00      0.00      0.00       220\\n          82       0.00      0.00      0.00       208\\n          83       0.00      0.00      0.00       216\\n          84       0.00      0.00      0.00       232\\n          85       0.00      0.00      0.00       205\\n          86       0.00      0.00      0.00       269\\n          87       0.00      0.00      0.00       253\\n          88       0.01      0.99      0.02       243\\n          89       0.00      0.00      0.00       243\\n          90       0.00      0.00      0.00       261\\n          91       0.00      0.00      0.00       224\\n          92       0.00      0.00      0.00       223\\n          93       0.00      0.00      0.00       239\\n          94       0.00      0.00      0.00       219\\n          95       0.00      0.00      0.00       215\\n          96       0.00      0.00      0.00       214\\n          97       0.00      0.00      0.00       230\\n          98       0.00      0.00      0.00       200\\n          99       0.00      0.00      0.00       229\\n         100       0.00      0.00      0.00       211\\n         101       0.00      0.00      0.00       221\\n         102       0.00      0.00      0.00       175\\n         103       0.00      0.00      0.00       234\\n         104       0.00      0.00      0.00       226\\n         105       0.00      0.00      0.00       192\\n         106       0.00      0.00      0.00       204\\n         107       0.00      0.00      0.00       208\\n         108       0.00      0.00      0.00       205\\n         109       0.00      0.00      0.00       201\\n         110       0.00      0.00      0.00       177\\n         111       0.00      0.00      0.00       192\\n         112       0.00      0.00      0.00       186\\n         113       0.00      0.00      0.00       184\\n         114       0.00      0.00      0.00       198\\n         115       0.00      0.00      0.00       206\\n         116       0.00      0.00      0.00       199\\n         117       0.00      0.00      0.00       177\\n         118       0.00      0.00      0.00       205\\n         119       0.00      0.00      0.00       220\\n         120       0.00      0.00      0.00       167\\n         121       0.00      0.00      0.00       198\\n         122       0.00      0.00      0.00       170\\n         123       0.00      0.00      0.00       186\\n         124       0.00      0.00      0.00       196\\n         125       0.00      0.00      0.00       183\\n         126       0.00      0.01      0.00       183\\n         127       0.00      0.00      0.00       193\\n         128       0.00      0.00      0.00       170\\n         129       0.02      0.02      0.02       186\\n         130       0.00      0.00      0.00       205\\n         131       0.00      0.00      0.00       171\\n         132       0.00      0.00      0.00       162\\n         133       0.00      0.00      0.00       152\\n         134       0.00      0.00      0.00       167\\n         135       0.00      0.00      0.00       177\\n         136       0.00      0.00      0.00       168\\n         137       0.00      0.00      0.00       148\\n         138       0.00      0.00      0.00       176\\n         139       0.00      0.00      0.00       161\\n         140       0.00      0.00      0.00       155\\n         141       0.00      0.00      0.00       130\\n         142       0.00      0.00      0.00       162\\n         143       0.00      0.00      0.00       159\\n         144       0.00      0.00      0.00       141\\n         145       0.00      0.00      0.00       155\\n         146       0.00      0.00      0.00       137\\n         147       0.00      0.00      0.00       122\\n         148       0.00      0.00      0.00       141\\n         149       0.00      0.00      0.00       101\\n         150       0.00      0.00      0.00       111\\n         151       0.00      0.00      0.00       128\\n         152       0.00      0.00      0.00       121\\n         153       0.00      0.00      0.00       112\\n         154       0.00      0.00      0.00       117\\n         155       0.00      0.00      0.00       104\\n         156       0.00      0.00      0.00       102\\n         157       0.00      0.00      0.00       109\\n         158       0.00      0.00      0.00        86\\n         159       0.00      0.00      0.00        97\\n         160       0.00      0.00      0.00        87\\n         161       0.00      0.00      0.00       108\\n         162       0.00      0.00      0.00        96\\n         163       0.00      0.00      0.00        89\\n         164       0.00      0.00      0.00        81\\n         165       0.00      0.00      0.00        88\\n         166       0.00      0.00      0.00        84\\n         167       0.00      0.00      0.00        87\\n         168       0.00      0.00      0.00        78\\n         169       0.00      0.00      0.00        76\\n         170       0.00      0.00      0.00        70\\n         171       0.00      0.00      0.00        75\\n         172       0.00      0.00      0.00        80\\n         173       0.00      0.00      0.00        70\\n         174       0.00      0.00      0.00        54\\n         175       0.00      0.00      0.00        61\\n         176       0.00      0.00      0.00        70\\n         177       0.00      0.00      0.00        60\\n         178       0.00      0.00      0.00        54\\n         179       0.00      0.00      0.00        64\\n         180       0.00      0.00      0.00        60\\n         181       0.00      0.00      0.00        51\\n         182       0.00      0.00      0.00        52\\n         183       0.00      0.00      0.00        64\\n         184       0.00      0.00      0.00        65\\n         185       0.00      0.00      0.00        60\\n         186       0.00      0.00      0.00        41\\n         187       0.00      0.00      0.00        64\\n         188       0.00      0.00      0.00        40\\n         189       0.00      0.00      0.00        57\\n         190       0.00      0.00      0.00        50\\n         191       0.00      0.00      0.00        35\\n         192       0.00      0.00      0.00        49\\n         193       0.00      0.00      0.00        38\\n         194       0.00      0.00      0.00        51\\n         195       0.00      0.00      0.00        40\\n         196       0.00      0.00      0.00        41\\n         197       0.00      0.00      0.00        39\\n         198       0.00      0.00      0.00        34\\n         199       0.00      0.00      0.00        31\\n         200       0.00      0.00      0.00        33\\n         201       0.00      0.00      0.00        36\\n         202       0.00      0.00      0.00        43\\n         203       0.00      0.00      0.00        28\\n         204       0.00      0.00      0.00        25\\n         205       0.00      0.00      0.00        23\\n         206       0.00      0.00      0.00        26\\n         207       0.00      0.00      0.00        21\\n         208       0.00      0.00      0.00        29\\n         209       0.00      0.00      0.00        27\\n         210       0.00      0.00      0.00        26\\n         211       0.00      0.00      0.00        33\\n         212       0.00      0.00      0.00        20\\n         213       0.00      0.00      0.00        17\\n         214       0.00      0.00      0.00        16\\n         215       0.00      0.00      0.00        18\\n         216       0.00      0.00      0.00        18\\n         217       0.00      0.00      0.00        28\\n         218       0.00      0.00      0.00        13\\n         219       0.00      0.00      0.00        23\\n         220       0.00      0.00      0.00        22\\n         221       0.00      0.00      0.00        22\\n         222       0.00      0.00      0.00        17\\n         223       0.00      0.00      0.00        22\\n         224       0.00      0.00      0.00        14\\n         225       0.00      0.00      0.00        11\\n         226       0.00      0.00      0.00        17\\n         227       0.00      0.00      0.00        18\\n         228       0.00      0.00      0.00        18\\n         229       0.00      0.00      0.00        14\\n         230       0.00      0.00      0.00        18\\n         231       0.00      0.00      0.00        13\\n         232       0.00      0.00      0.00        15\\n         233       0.00      0.00      0.00        11\\n         234       0.00      0.00      0.00         6\\n         235       0.00      0.00      0.00         9\\n         236       0.00      0.00      0.00        10\\n         237       0.00      0.00      0.00        12\\n         238       0.00      0.00      0.00        11\\n         239       0.00      0.00      0.00         5\\n         240       0.00      0.00      0.00        14\\n         241       0.00      0.00      0.00        10\\n         242       0.00      0.00      0.00        10\\n         243       0.00      0.00      0.00         7\\n         244       0.00      0.00      0.00         8\\n         245       0.00      0.00      0.00         5\\n         246       0.00      0.00      0.00         6\\n         247       0.00      0.00      0.00         8\\n         248       0.00      0.00      0.00         6\\n         249       0.00      0.00      0.00         6\\n         250       0.00      0.00      0.00         9\\n         251       0.00      0.00      0.00        11\\n         252       0.00      0.00      0.00         3\\n         253       0.00      0.00      0.00         5\\n         254       0.00      0.00      0.00         7\\n         255       0.00      0.00      0.00         6\\n         256       0.00      0.00      0.00         5\\n         257       0.00      0.00      0.00         2\\n         258       0.00      0.00      0.00         9\\n         259       0.00      0.00      0.00         5\\n         260       0.00      0.00      0.00         6\\n         261       0.00      0.00      0.00         1\\n         262       0.00      0.00      0.00         5\\n         263       0.00      0.00      0.00         4\\n         264       0.00      0.00      0.00         8\\n         266       0.00      0.00      0.00         5\\n         267       0.00      0.00      0.00         2\\n         268       0.00      0.00      0.00         2\\n         269       0.00      0.00      0.00         5\\n         270       0.00      0.00      0.00         2\\n         271       0.00      0.00      0.00         3\\n         272       0.00      0.00      0.00         6\\n         273       0.00      0.00      0.00         2\\n         274       0.00      0.00      0.00         4\\n         275       0.00      0.00      0.00         2\\n         276       0.00      0.00      0.00         1\\n         277       0.00      0.00      0.00         1\\n         278       0.00      0.00      0.00         4\\n         279       0.00      0.00      0.00         1\\n         280       0.00      0.00      0.00         4\\n         281       0.00      0.00      0.00         3\\n         282       0.00      0.00      0.00         4\\n         283       0.00      0.00      0.00         1\\n         284       0.00      0.00      0.00         5\\n         285       0.00      0.00      0.00         5\\n         286       0.00      0.00      0.00         1\\n         287       0.00      0.00      0.00         2\\n         288       0.00      0.00      0.00         2\\n         289       0.00      0.00      0.00         1\\n         290       0.00      0.00      0.00         1\\n         291       0.00      0.00      0.00         2\\n         292       0.00      0.00      0.00         3\\n         293       0.00      0.00      0.00         3\\n         294       0.00      0.00      0.00         2\\n         295       0.00      0.00      0.00         2\\n         296       0.00      0.00      0.00         2\\n         297       0.00      0.00      0.00         1\\n         298       0.00      0.00      0.00         2\\n         299       0.00      0.00      0.00         2\\n         301       0.00      0.00      0.00         3\\n         302       0.00      0.00      0.00         2\\n         303       0.00      0.00      0.00         3\\n         305       0.00      0.00      0.00         1\\n         306       0.00      0.00      0.00         3\\n         307       0.00      0.00      0.00         1\\n         308       0.00      0.00      0.00         2\\n         310       0.00      0.00      0.00         1\\n         311       0.00      0.00      0.00         1\\n         312       0.00      0.00      0.00         1\\n         313       0.00      0.00      0.00         1\\n         314       0.00      0.00      0.00         1\\n         315       0.00      0.00      0.00         2\\n         318       0.00      0.00      0.00         1\\n         319       0.00      0.00      0.00         1\\n         323       0.00      0.00      0.00         1\\n         326       0.00      0.00      0.00         1\\n         327       0.00      0.00      0.00         1\\n         328       0.00      0.00      0.00         3\\n         331       0.00      0.00      0.00         1\\n         332       0.00      0.00      0.00         1\\n         336       0.00      0.00      0.00         1\\n         337       0.00      0.00      0.00         1\\n         339       0.00      0.00      0.00         1\\n         342       0.00      0.00      0.00         1\\n         343       0.00      0.00      0.00         1\\n         346       0.00      0.00      0.00         1\\n         349       0.00      0.00      0.00         1\\n         352       0.00      0.00      0.00         2\\n         353       0.00      0.00      0.00         1\\n         355       0.00      0.00      0.00         1\\n         356       0.00      0.00      0.00         1\\n         357       0.00      0.00      0.00         1\\n         360       0.00      0.00      0.00         1\\n         362       0.00      0.00      0.00         1\\n         363       0.00      0.00      0.00         2\\n         365       0.00      0.00      0.00         1\\n         366       0.00      0.00      0.00         1\\n         368       0.00      0.00      0.00         1\\n         370       0.00      0.00      0.00         1\\n         372       0.00      0.00      0.00         1\\n         375       0.00      0.00      0.00         1\\n         378       0.00      0.00      0.00         1\\n         565       0.00      0.00      0.00         1\\n\\n    accuracy                           0.51     52589\\n   macro avg       0.00      0.01      0.00     52589\\nweighted avg       0.45      0.51      0.47     52589\\n'"
      ]
     },
     "execution_count": 34,
     "metadata": {},
     "output_type": "execute_result"
    }
   ],
   "source": [
    "classification_report(y_test,predict)"
   ]
  },
  {
   "cell_type": "code",
   "execution_count": 35,
   "id": "9fb4b652",
   "metadata": {},
   "outputs": [],
   "source": [
    "from sklearn.metrics import confusion_matrix"
   ]
  },
  {
   "cell_type": "code",
   "execution_count": 36,
   "id": "2ad90ba2",
   "metadata": {},
   "outputs": [
    {
     "data": {
      "text/plain": [
       "array([[26582,     0,     0, ...,     0,     0,     0],\n",
       "       [    6,     0,     0, ...,     0,     0,     0],\n",
       "       [   19,     0,     0, ...,     0,     0,     0],\n",
       "       ...,\n",
       "       [    0,     0,     0, ...,     0,     0,     0],\n",
       "       [    0,     0,     0, ...,     0,     0,     0],\n",
       "       [    0,     0,     0, ...,     0,     0,     0]], dtype=int64)"
      ]
     },
     "execution_count": 36,
     "metadata": {},
     "output_type": "execute_result"
    }
   ],
   "source": [
    "confusion_matrix(y_test,predict)"
   ]
  },
  {
   "cell_type": "code",
   "execution_count": 38,
   "id": "f7679ac8",
   "metadata": {},
   "outputs": [],
   "source": [
    " from sklearn.metrics import accuracy_score"
   ]
  },
  {
   "cell_type": "code",
   "execution_count": 39,
   "id": "12ad4338",
   "metadata": {},
   "outputs": [
    {
     "data": {
      "text/plain": [
       "0.5101066763011276"
      ]
     },
     "execution_count": 39,
     "metadata": {},
     "output_type": "execute_result"
    }
   ],
   "source": [
    "accuracy_score(y_test,predict)"
   ]
  },
  {
   "cell_type": "code",
   "execution_count": null,
   "id": "996ed614",
   "metadata": {},
   "outputs": [],
   "source": []
  },
  {
   "cell_type": "markdown",
   "id": "b439b384",
   "metadata": {},
   "source": [
    "#### for clearsky DNI\n",
    "\n"
   ]
  },
  {
   "cell_type": "code",
   "execution_count": 40,
   "id": "9841e8ae",
   "metadata": {},
   "outputs": [
    {
     "name": "stdout",
     "output_type": "stream",
     "text": [
      "<class 'pandas.core.frame.DataFrame'>\n",
      "RangeIndex: 175296 entries, 0 to 175295\n",
      "Data columns (total 18 columns):\n",
      " #   Column              Non-Null Count   Dtype  \n",
      "---  ------              --------------   -----  \n",
      " 0   Year                175296 non-null  int64  \n",
      " 1   Month               175296 non-null  int64  \n",
      " 2   Day                 175296 non-null  int64  \n",
      " 3   Hour                175296 non-null  int64  \n",
      " 4   Minute              175296 non-null  int64  \n",
      " 5   Clearsky DHI        175296 non-null  int64  \n",
      " 6   Clearsky DNI        175296 non-null  int64  \n",
      " 7   Clearsky GHI        175296 non-null  int64  \n",
      " 8   Cloud Type          175296 non-null  int64  \n",
      " 9   Dew Point           175296 non-null  float64\n",
      " 10  Temperature         175296 non-null  float64\n",
      " 11  Pressure            175296 non-null  int64  \n",
      " 12  Relative Humidity   175296 non-null  float64\n",
      " 13  Solar Zenith Angle  175296 non-null  float64\n",
      " 14  Precipitable Water  175296 non-null  float64\n",
      " 15  Wind Direction      175296 non-null  float64\n",
      " 16  Wind Speed          175296 non-null  float64\n",
      " 17  Fill Flag           175296 non-null  int64  \n",
      "dtypes: float64(7), int64(11)\n",
      "memory usage: 24.1 MB\n"
     ]
    }
   ],
   "source": [
    "titanic_data.info()"
   ]
  },
  {
   "cell_type": "code",
   "execution_count": 41,
   "id": "8583fb99",
   "metadata": {},
   "outputs": [
    {
     "data": {
      "text/plain": [
       "(175296,)"
      ]
     },
     "execution_count": 41,
     "metadata": {},
     "output_type": "execute_result"
    }
   ],
   "source": [
    "y = titanic_data['Clearsky DNI']\n",
    "y.head()\n",
    "y.shape"
   ]
  },
  {
   "cell_type": "code",
   "execution_count": 42,
   "id": "cf88826f",
   "metadata": {},
   "outputs": [
    {
     "data": {
      "text/plain": [
       "(175296, 15)"
      ]
     },
     "execution_count": 42,
     "metadata": {},
     "output_type": "execute_result"
    }
   ],
   "source": [
    "X = titanic_data.drop(['Clearsky DHI','Clearsky DNI','Clearsky GHI'],axis=1)\n",
    "X.head()\n",
    "X.shape"
   ]
  },
  {
   "cell_type": "code",
   "execution_count": null,
   "id": "2a20eaaa",
   "metadata": {},
   "outputs": [],
   "source": []
  }
 ],
 "metadata": {
  "kernelspec": {
   "display_name": "Python 3 (ipykernel)",
   "language": "python",
   "name": "python3"
  },
  "language_info": {
   "codemirror_mode": {
    "name": "ipython",
    "version": 3
   },
   "file_extension": ".py",
   "mimetype": "text/x-python",
   "name": "python",
   "nbconvert_exporter": "python",
   "pygments_lexer": "ipython3",
   "version": "3.9.7"
  }
 },
 "nbformat": 4,
 "nbformat_minor": 5
}
